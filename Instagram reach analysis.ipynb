{
 "cells": [
  {
   "cell_type": "markdown",
   "metadata": {},
   "source": [
    "# Instagram reach analysis"
   ]
  },
  {
   "cell_type": "code",
   "execution_count": 10,
   "metadata": {},
   "outputs": [],
   "source": [
    "import pandas as  pd\n",
    "import numpy as np\n",
    "import matplotlib.pyplot as plt\n",
    "import seaborn as sns\n",
    "import plotly.express as px\n",
    "from wordcloud import WordCloud, STOPWORDS, ImageColorGenerator\n",
    "from sklearn.model_selection import train_test_split\n",
    "from sklearn.linear_model import PassiveAggressiveRegressor\n",
    "from sklearn.linear_model import LogisticRegression\n",
    "from sklearn.metrics import accuracy_score"
   ]
  },
  {
   "cell_type": "code",
   "execution_count": 13,
   "metadata": {},
   "outputs": [],
   "source": [
    "df=pd.read_csv(\"Instagram data.csv\",encoding=\"latin1\")"
   ]
  },
  {
   "cell_type": "code",
   "execution_count": 11,
   "metadata": {},
   "outputs": [
    {
     "data": {
      "text/html": [
       "<div>\n",
       "<style scoped>\n",
       "    .dataframe tbody tr th:only-of-type {\n",
       "        vertical-align: middle;\n",
       "    }\n",
       "\n",
       "    .dataframe tbody tr th {\n",
       "        vertical-align: top;\n",
       "    }\n",
       "\n",
       "    .dataframe thead th {\n",
       "        text-align: right;\n",
       "    }\n",
       "</style>\n",
       "<table border=\"1\" class=\"dataframe\">\n",
       "  <thead>\n",
       "    <tr style=\"text-align: right;\">\n",
       "      <th></th>\n",
       "      <th>Impressions</th>\n",
       "      <th>From Home</th>\n",
       "      <th>From Hashtags</th>\n",
       "      <th>From Explore</th>\n",
       "      <th>From Other</th>\n",
       "      <th>Saves</th>\n",
       "      <th>Comments</th>\n",
       "      <th>Shares</th>\n",
       "      <th>Likes</th>\n",
       "      <th>Profile Visits</th>\n",
       "      <th>Follows</th>\n",
       "      <th>Caption</th>\n",
       "      <th>Hashtags</th>\n",
       "    </tr>\n",
       "  </thead>\n",
       "  <tbody>\n",
       "    <tr>\n",
       "      <th>0</th>\n",
       "      <td>3920</td>\n",
       "      <td>2586</td>\n",
       "      <td>1028</td>\n",
       "      <td>619</td>\n",
       "      <td>56</td>\n",
       "      <td>98</td>\n",
       "      <td>9</td>\n",
       "      <td>5</td>\n",
       "      <td>162</td>\n",
       "      <td>35</td>\n",
       "      <td>2</td>\n",
       "      <td>Here are some of the most important data visua...</td>\n",
       "      <td>#finance #money #business #investing #investme...</td>\n",
       "    </tr>\n",
       "    <tr>\n",
       "      <th>1</th>\n",
       "      <td>5394</td>\n",
       "      <td>2727</td>\n",
       "      <td>1838</td>\n",
       "      <td>1174</td>\n",
       "      <td>78</td>\n",
       "      <td>194</td>\n",
       "      <td>7</td>\n",
       "      <td>14</td>\n",
       "      <td>224</td>\n",
       "      <td>48</td>\n",
       "      <td>10</td>\n",
       "      <td>Here are some of the best data science project...</td>\n",
       "      <td>#healthcare #health #covid #data #datascience ...</td>\n",
       "    </tr>\n",
       "  </tbody>\n",
       "</table>\n",
       "</div>"
      ],
      "text/plain": [
       "   Impressions  From Home  From Hashtags  From Explore  From Other  Saves  \\\n",
       "0         3920       2586           1028           619          56     98   \n",
       "1         5394       2727           1838          1174          78    194   \n",
       "\n",
       "   Comments  Shares  Likes  Profile Visits  Follows  \\\n",
       "0         9       5    162              35        2   \n",
       "1         7      14    224              48       10   \n",
       "\n",
       "                                             Caption  \\\n",
       "0  Here are some of the most important data visua...   \n",
       "1  Here are some of the best data science project...   \n",
       "\n",
       "                                            Hashtags  \n",
       "0  #finance #money #business #investing #investme...  \n",
       "1  #healthcare #health #covid #data #datascience ...  "
      ]
     },
     "execution_count": 11,
     "metadata": {},
     "output_type": "execute_result"
    }
   ],
   "source": [
    "\n",
    "df.head(2)"
   ]
  },
  {
   "cell_type": "markdown",
   "metadata": {},
   "source": [
    "# Analyzing Instagram Reach"
   ]
  },
  {
   "cell_type": "code",
   "execution_count": 111,
   "metadata": {},
   "outputs": [
    {
     "name": "stderr",
     "output_type": "stream",
     "text": [
      "C:\\Users\\at\\Anaconda3\\lib\\site-packages\\seaborn\\distributions.py:2619: FutureWarning:\n",
      "\n",
      "`distplot` is a deprecated function and will be removed in a future version. Please adapt your code to use either `displot` (a figure-level function with similar flexibility) or `histplot` (an axes-level function for histograms).\n",
      "\n"
     ]
    },
    {
     "data": {
      "image/png": "[encoded data removed]",
      "text/plain": [
       "<Figure size 720x576 with 1 Axes>"
      ]
     },
     "metadata": {
      "needs_background": "light"
     },
     "output_type": "display_data"
    }
   ],
   "source": [
    "plt.figure(figsize=(10.,8))\n",
    "plt.style.use('fivethirtyeight')\n",
    "plt.title(\" Distribution of Impression From Home \")\n",
    "sns.distplot(df[\"From Home\"])\n",
    "plt.show()\n"
   ]
  },
  {
   "cell_type": "code",
   "execution_count": null,
   "metadata": {},
   "outputs": [],
   "source": [
    "plt.figure(figsize=(10,8))\n",
    "plt.title(\"distribution of Impression From Hastags\")\n",
    "sns.distplot(df['From Hashtags'])\n",
    "plt.show()\n",
    "\n"
   ]
  },
  {
   "cell_type": "code",
   "execution_count": null,
   "metadata": {},
   "outputs": [],
   "source": [
    "plt.figure(figsize=(8,6))\n",
    "plt.title(\"Distribution of imprssioin From Explore\")\n",
    "sns.distplot(df[\"From Explore\"])\n",
    "plt.show()"
   ]
  },
  {
   "cell_type": "markdown",
   "metadata": {},
   "source": [
    "# Now let’s have a look at the percentage of impressions I get from various sources on Instagram"
   ]
  },
  {
   "cell_type": "code",
   "execution_count": null,
   "metadata": {},
   "outputs": [],
   "source": [
    "home=df[\"From Home\"].sum()\n",
    "hashtags=df[\"From Hashtags\"].sum()\n",
    "explore=df[\"From Explore\"].sum()\n",
    "other=df[\"From Other\"].sum()\n",
    "\n",
    "labels=[\"Home\",\"Hashtags\",\"Explore\",\"Other\"]\n",
    "values=[home,hashtags,explore,other]\n",
    "\n",
    "\n",
    "fig= px.pie(df,values=values, names=labels,\n",
    "           title=\"Impresson on Instagram posts from various sources \",hole=0.5)\n",
    "fig.show()\n"
   ]
  },
  {
   "cell_type": "markdown",
   "metadata": {},
   "source": [
    "# Analyzing Content"
   ]
  },
  {
   "cell_type": "code",
   "execution_count": null,
   "metadata": {},
   "outputs": [],
   "source": [
    "text=\" \".join(i for i in df.Caption)\n",
    "stopwords= set(STOPWORDS)\n",
    "wordcloud=WordCloud(stopwords=stopwords, background_color='white').generate(text)\n",
    "plt.style.use(\"classic\")\n",
    "plt.figure(figsize=(12,10))\n",
    "plt.imshow(wordcloud, interpolation=\"bilinear\")\n",
    "# plt.aixs(\"off\")\n",
    "\n",
    "plt.show()\n",
    "\n"
   ]
  },
  {
   "cell_type": "code",
   "execution_count": null,
   "metadata": {},
   "outputs": [],
   "source": [
    "txt=\" \".join(i for i in df.Hashtags)\n",
    "stopwords=set(STOPWORDS)\n",
    "wordcloud=WordCloud(stopwords=stopwords, background_color=\"white\").generate(txt)\n",
    "plt.style.use(\"classic\")\n",
    "plt.figure(figsize=(14,12))\n",
    "plt.imshow(wordcloud,interpolation=\"bilinear\")\n",
    "plt.show()"
   ]
  },
  {
   "cell_type": "markdown",
   "metadata": {},
   "source": [
    "# Analyzing Relationships"
   ]
  },
  {
   "cell_type": "code",
   "execution_count": 14,
   "metadata": {},
   "outputs": [
    {
     "data": {
      "application/vnd.plotly.v1+json": {
       "config": {
        "plotlyServerURL": "https://plot.ly"
       },
       "data": [
        {
         "hovertemplate": "Impressions=%{x}<br>Likes=%{marker.size}<extra></extra>",
         "legendgroup": "",
         "marker": {
          "color": "#636efa",
          "size": [
           162,
           224,
           131,
           213,
           123,
           144,
           76,
           124,
           159,
           191,
           81,
           151,
           162,
           142,
           294,
           159,
           205,
           121,
           151,
           72,
           76,
           91,
           195,
           129,
           160,
           175,
           147,
           114,
           151,
           92,
           214,
           150,
           122,
           152,
           196,
           86,
           85,
           156,
           72,
           82,
           416,
           180,
           150,
           127,
           167,
           225,
           137,
           114,
           263,
           328,
           126,
           236,
           99,
           212,
           297,
           142,
           186,
           112,
           149,
           132,
           115,
           248,
           178,
           107,
           269,
           96,
           134,
           301,
           187,
           94,
           114,
           96,
           138,
           122,
           257,
           95,
           244,
           190,
           118,
           178,
           170,
           250,
           159,
           205,
           121,
           151,
           72,
           137,
           114,
           263,
           328,
           126,
           129,
           160,
           175,
           147,
           114,
           151,
           92,
           275,
           192,
           203,
           145,
           168,
           194,
           250,
           171,
           416,
           249,
           308,
           163,
           86,
           210,
           172,
           373,
           148,
           92,
           549,
           443
          ],
          "sizemode": "area",
          "sizeref": 1.3725,
          "symbol": "circle"
         },
         "mode": "markers",
         "name": "",
         "orientation": "v",
         "showlegend": false,
         "type": "scatter",
         "x": [
          3920,
          5394,
          4021,
          4528,
          2518,
          3884,
          2621,
          3541,
          3749,
          4115,
          2218,
          3234,
          4344,
          3216,
          9453,
          5055,
          4002,
          3169,
          6168,
          2407,
          2064,
          3973,
          7281,
          3052,
          4628,
          4082,
          5394,
          2766,
          3924,
          3015,
          6666,
          3854,
          4355,
          4343,
          6108,
          2523,
          2327,
          3990,
          2191,
          1941,
          16062,
          4998,
          4289,
          3880,
          3786,
          4298,
          3630,
          2826,
          7407,
          10386,
          2998,
          7018,
          2941,
          6432,
          10667,
          3988,
          4978,
          3388,
          4467,
          3246,
          5072,
          6339,
          4239,
          3454,
          7571,
          3333,
          3818,
          10933,
          5058,
          3601,
          3480,
          3525,
          3606,
          5542,
          6559,
          3623,
          10493,
          4446,
          2957,
          5538,
          4681,
          5273,
          5055,
          4002,
          3169,
          6168,
          2407,
          3630,
          2826,
          7407,
          10386,
          2998,
          3052,
          4628,
          4082,
          5394,
          2766,
          3924,
          3015,
          5409,
          5323,
          8001,
          4150,
          4609,
          6348,
          11068,
          7231,
          17396,
          6814,
          17713,
          5563,
          4842,
          11149,
          10206,
          13700,
          5731,
          4139,
          32695,
          36919
         ],
         "xaxis": "x",
         "y": [
          162,
          224,
          131,
          213,
          123,
          144,
          76,
          124,
          159,
          191,
          81,
          151,
          162,
          142,
          294,
          159,
          205,
          121,
          151,
          72,
          76,
          91,
          195,
          129,
          160,
          175,
          147,
          114,
          151,
          92,
          214,
          150,
          122,
          152,
          196,
          86,
          85,
          156,
          72,
          82,
          416,
          180,
          150,
          127,
          167,
          225,
          137,
          114,
          263,
          328,
          126,
          236,
          99,
          212,
          297,
          142,
          186,
          112,
          149,
          132,
          115,
          248,
          178,
          107,
          269,
          96,
          134,
          301,
          187,
          94,
          114,
          96,
          138,
          122,
          257,
          95,
          244,
          190,
          118,
          178,
          170,
          250,
          159,
          205,
          121,
          151,
          72,
          137,
          114,
          263,
          328,
          126,
          129,
          160,
          175,
          147,
          114,
          151,
          92,
          275,
          192,
          203,
          145,
          168,
          194,
          250,
          171,
          416,
          249,
          308,
          163,
          86,
          210,
          172,
          373,
          148,
          92,
          549,
          443
         ],
         "yaxis": "y"
        },
        {
         "hovertemplate": "<b>OLS trendline</b><br>Likes = 0.0144533 * Impressions + 91.3401<br>R<sup>2</sup>=0.722220<br><br>Impressions=%{x}<br>Likes=%{y} <b>(trend)</b><extra></extra>",
         "legendgroup": "",
         "marker": {
          "color": "#636efa",
          "symbol": "circle"
         },
         "mode": "lines",
         "name": "",
         "showlegend": false,
         "type": "scatter",
         "x": [
          1941,
          2064,
          2191,
          2218,
          2327,
          2407,
          2407,
          2518,
          2523,
          2621,
          2766,
          2766,
          2826,
          2826,
          2941,
          2957,
          2998,
          2998,
          3015,
          3015,
          3052,
          3052,
          3169,
          3169,
          3216,
          3234,
          3246,
          3333,
          3388,
          3454,
          3480,
          3525,
          3541,
          3601,
          3606,
          3623,
          3630,
          3630,
          3749,
          3786,
          3818,
          3854,
          3880,
          3884,
          3920,
          3924,
          3924,
          3973,
          3988,
          3990,
          4002,
          4002,
          4021,
          4082,
          4082,
          4115,
          4139,
          4150,
          4239,
          4289,
          4298,
          4343,
          4344,
          4355,
          4446,
          4467,
          4528,
          4609,
          4628,
          4628,
          4681,
          4842,
          4978,
          4998,
          5055,
          5055,
          5058,
          5072,
          5273,
          5323,
          5394,
          5394,
          5394,
          5409,
          5538,
          5542,
          5563,
          5731,
          6108,
          6168,
          6168,
          6339,
          6348,
          6432,
          6559,
          6666,
          6814,
          7018,
          7231,
          7281,
          7407,
          7407,
          7571,
          8001,
          9453,
          10206,
          10386,
          10386,
          10493,
          10667,
          10933,
          11068,
          11149,
          13700,
          16062,
          17396,
          17713,
          32695,
          36919
         ],
         "xaxis": "x",
         "y": [
          119.393918281271,
          121.1716724776395,
          123.00723981860537,
          123.3974785446375,
          124.97288673491528,
          126.12914962686229,
          126.12914962686229,
          127.73346438943875,
          127.80573082018545,
          129.2221528628205,
          131.31787935447448,
          131.31787935447448,
          132.18507652343473,
          132.18507652343473,
          133.84720443060854,
          134.07845700899793,
          134.67104174112077,
          134.67104174112077,
          134.9167476056595,
          134.9167476056595,
          135.451519193185,
          135.451519193185,
          137.1425536726575,
          137.1425536726575,
          137.82185812167637,
          138.08201727236445,
          138.2554567061565,
          139.51289260114885,
          140.30782333936241,
          141.26174022521872,
          141.63752566510146,
          142.28792354182167,
          142.51917612021106,
          143.38637328917133,
          143.458639719918,
          143.70434558445675,
          143.80551858750212,
          143.80551858750212,
          145.52545963927327,
          146.06023122679878,
          146.52273638357758,
          147.04305468495372,
          147.4188401248365,
          147.47665326943385,
          147.99697157081,
          148.05478471540735,
          148.05478471540735,
          148.7629957367249,
          148.97979502896496,
          149.00870160126362,
          149.18214103505568,
          149.18214103505568,
          149.45675347189308,
          150.33840392700267,
          150.33840392700267,
          150.81536236993082,
          151.16224123751493,
          151.32122738515764,
          152.60756985244868,
          153.33023415991556,
          153.4603137352596,
          154.11071161197978,
          154.12516489812913,
          154.28415104577184,
          155.59940008536154,
          155.90291909449763,
          156.78456954960723,
          157.95528572770357,
          158.229898164541,
          158.229898164541,
          158.99592233045587,
          161.32290140049923,
          163.2885483168091,
          163.5776140397959,
          164.40145135030812,
          164.40145135030812,
          164.44481120875614,
          164.64715721484686,
          167.55226773086372,
          168.27493203833058,
          169.30111535493353,
          169.30111535493353,
          169.30111535493353,
          169.5179146471736,
          171.38238856043816,
          171.44020170503552,
          171.7437207141716,
          174.1718727872603,
          179.62076166556056,
          180.4879588345208,
          180.4879588345208,
          182.95947076605754,
          183.08955034140155,
          184.30362637794593,
          186.13919371891177,
          187.6856953368909,
          189.82478168699288,
          192.77325206145773,
          195.8518020112666,
          196.5744663187335,
          198.39558037355005,
          198.39558037355005,
          200.7659193020414,
          206.98083234625653,
          227.96700383509466,
          238.85032830554584,
          241.45191981242658,
          241.45191981242658,
          242.9984214304057,
          245.51329322039044,
          249.35786733611423,
          251.30906096627479,
          252.47977714437113,
          289.3501101113312,
          323.4887719960665,
          342.7694557192828,
          347.3511474286228,
          563.890280517998,
          624.9409612127997
         ],
         "yaxis": "y"
        }
       ],
       "layout": {
        "legend": {
         "itemsizing": "constant",
         "tracegroupgap": 0
        },
        "template": {
         "data": {
          "bar": [
           {
            "error_x": {
             "color": "#2a3f5f"
            },
            "error_y": {
             "color": "#2a3f5f"
            },
            "marker": {
             "line": {
              "color": "#E5ECF6",
              "width": 0.5
             },
             "pattern": {
              "fillmode": "overlay",
              "size": 10,
              "solidity": 0.2
             }
            },
            "type": "bar"
           }
          ],
          "barpolar": [
           {
            "marker": {
             "line": {
              "color": "#E5ECF6",
              "width": 0.5
             },
             "pattern": {
              "fillmode": "overlay",
              "size": 10,
              "solidity": 0.2
             }
            },
            "type": "barpolar"
           }
          ],
          "carpet": [
           {
            "aaxis": {
             "endlinecolor": "#2a3f5f",
             "gridcolor": "white",
             "linecolor": "white",
             "minorgridcolor": "white",
             "startlinecolor": "#2a3f5f"
            },
            "baxis": {
             "endlinecolor": "#2a3f5f",
             "gridcolor": "white",
             "linecolor": "white",
             "minorgridcolor": "white",
             "startlinecolor": "#2a3f5f"
            },
            "type": "carpet"
           }
          ],
          "choropleth": [
           {
            "colorbar": {
             "outlinewidth": 0,
             "ticks": ""
            },
            "type": "choropleth"
           }
          ],
          "contour": [
           {
            "colorbar": {
             "outlinewidth": 0,
             "ticks": ""
            },
            "colorscale": [
             [
              0,
              "#0d0887"
             ],
             [
              0.1111111111111111,
              "#46039f"
             ],
             [
              0.2222222222222222,
              "#7201a8"
             ],
             [
              0.3333333333333333,
              "#9c179e"
             ],
             [
              0.4444444444444444,
              "#bd3786"
             ],
             [
              0.5555555555555556,
              "#d8576b"
             ],
             [
              0.6666666666666666,
              "#ed7953"
             ],
             [
              0.7777777777777778,
              "#fb9f3a"
             ],
             [
              0.8888888888888888,
              "#fdca26"
             ],
             [
              1,
              "#f0f921"
             ]
            ],
            "type": "contour"
           }
          ],
          "contourcarpet": [
           {
            "colorbar": {
             "outlinewidth": 0,
             "ticks": ""
            },
            "type": "contourcarpet"
           }
          ],
          "heatmap": [
           {
            "colorbar": {
             "outlinewidth": 0,
             "ticks": ""
            },
            "colorscale": [
             [
              0,
              "#0d0887"
             ],
             [
              0.1111111111111111,
              "#46039f"
             ],
             [
              0.2222222222222222,
              "#7201a8"
             ],
             [
              0.3333333333333333,
              "#9c179e"
             ],
             [
              0.4444444444444444,
              "#bd3786"
             ],
             [
              0.5555555555555556,
              "#d8576b"
             ],
             [
              0.6666666666666666,
              "#ed7953"
             ],
             [
              0.7777777777777778,
              "#fb9f3a"
             ],
             [
              0.8888888888888888,
              "#fdca26"
             ],
             [
              1,
              "#f0f921"
             ]
            ],
            "type": "heatmap"
           }
          ],
          "heatmapgl": [
           {
            "colorbar": {
             "outlinewidth": 0,
             "ticks": ""
            },
            "colorscale": [
             [
              0,
              "#0d0887"
             ],
             [
              0.1111111111111111,
              "#46039f"
             ],
             [
              0.2222222222222222,
              "#7201a8"
             ],
             [
              0.3333333333333333,
              "#9c179e"
             ],
             [
              0.4444444444444444,
              "#bd3786"
             ],
             [
              0.5555555555555556,
              "#d8576b"
             ],
             [
              0.6666666666666666,
              "#ed7953"
             ],
             [
              0.7777777777777778,
              "#fb9f3a"
             ],
             [
              0.8888888888888888,
              "#fdca26"
             ],
             [
              1,
              "#f0f921"
             ]
            ],
            "type": "heatmapgl"
           }
          ],
          "histogram": [
           {
            "marker": {
             "pattern": {
              "fillmode": "overlay",
              "size": 10,
              "solidity": 0.2
             }
            },
            "type": "histogram"
           }
          ],
          "histogram2d": [
           {
            "colorbar": {
             "outlinewidth": 0,
             "ticks": ""
            },
            "colorscale": [
             [
              0,
              "#0d0887"
             ],
             [
              0.1111111111111111,
              "#46039f"
             ],
             [
              0.2222222222222222,
              "#7201a8"
             ],
             [
              0.3333333333333333,
              "#9c179e"
             ],
             [
              0.4444444444444444,
              "#bd3786"
             ],
             [
              0.5555555555555556,
              "#d8576b"
             ],
             [
              0.6666666666666666,
              "#ed7953"
             ],
             [
              0.7777777777777778,
              "#fb9f3a"
             ],
             [
              0.8888888888888888,
              "#fdca26"
             ],
             [
              1,
              "#f0f921"
             ]
            ],
            "type": "histogram2d"
           }
          ],
          "histogram2dcontour": [
           {
            "colorbar": {
             "outlinewidth": 0,
             "ticks": ""
            },
            "colorscale": [
             [
              0,
              "#0d0887"
             ],
             [
              0.1111111111111111,
              "#46039f"
             ],
             [
              0.2222222222222222,
              "#7201a8"
             ],
             [
              0.3333333333333333,
              "#9c179e"
             ],
             [
              0.4444444444444444,
              "#bd3786"
             ],
             [
              0.5555555555555556,
              "#d8576b"
             ],
             [
              0.6666666666666666,
              "#ed7953"
             ],
             [
              0.7777777777777778,
              "#fb9f3a"
             ],
             [
              0.8888888888888888,
              "#fdca26"
             ],
             [
              1,
              "#f0f921"
             ]
            ],
            "type": "histogram2dcontour"
           }
          ],
          "mesh3d": [
           {
            "colorbar": {
             "outlinewidth": 0,
             "ticks": ""
            },
            "type": "mesh3d"
           }
          ],
          "parcoords": [
           {
            "line": {
             "colorbar": {
              "outlinewidth": 0,
              "ticks": ""
             }
            },
            "type": "parcoords"
           }
          ],
          "pie": [
           {
            "automargin": true,
            "type": "pie"
           }
          ],
          "scatter": [
           {
            "fillpattern": {
             "fillmode": "overlay",
             "size": 10,
             "solidity": 0.2
            },
            "type": "scatter"
           }
          ],
          "scatter3d": [
           {
            "line": {
             "colorbar": {
              "outlinewidth": 0,
              "ticks": ""
             }
            },
            "marker": {
             "colorbar": {
              "outlinewidth": 0,
              "ticks": ""
             }
            },
            "type": "scatter3d"
           }
          ],
          "scattercarpet": [
           {
            "marker": {
             "colorbar": {
              "outlinewidth": 0,
              "ticks": ""
             }
            },
            "type": "scattercarpet"
           }
          ],
          "scattergeo": [
           {
            "marker": {
             "colorbar": {
              "outlinewidth": 0,
              "ticks": ""
             }
            },
            "type": "scattergeo"
           }
          ],
          "scattergl": [
           {
            "marker": {
             "colorbar": {
              "outlinewidth": 0,
              "ticks": ""
             }
            },
            "type": "scattergl"
           }
          ],
          "scattermapbox": [
           {
            "marker": {
             "colorbar": {
              "outlinewidth": 0,
              "ticks": ""
             }
            },
            "type": "scattermapbox"
           }
          ],
          "scatterpolar": [
           {
            "marker": {
             "colorbar": {
              "outlinewidth": 0,
              "ticks": ""
             }
            },
            "type": "scatterpolar"
           }
          ],
          "scatterpolargl": [
           {
            "marker": {
             "colorbar": {
              "outlinewidth": 0,
              "ticks": ""
             }
            },
            "type": "scatterpolargl"
           }
          ],
          "scatterternary": [
           {
            "marker": {
             "colorbar": {
              "outlinewidth": 0,
              "ticks": ""
             }
            },
            "type": "scatterternary"
           }
          ],
          "surface": [
           {
            "colorbar": {
             "outlinewidth": 0,
             "ticks": ""
            },
            "colorscale": [
             [
              0,
              "#0d0887"
             ],
             [
              0.1111111111111111,
              "#46039f"
             ],
             [
              0.2222222222222222,
              "#7201a8"
             ],
             [
              0.3333333333333333,
              "#9c179e"
             ],
             [
              0.4444444444444444,
              "#bd3786"
             ],
             [
              0.5555555555555556,
              "#d8576b"
             ],
             [
              0.6666666666666666,
              "#ed7953"
             ],
             [
              0.7777777777777778,
              "#fb9f3a"
             ],
             [
              0.8888888888888888,
              "#fdca26"
             ],
             [
              1,
              "#f0f921"
             ]
            ],
            "type": "surface"
           }
          ],
          "table": [
           {
            "cells": {
             "fill": {
              "color": "#EBF0F8"
             },
             "line": {
              "color": "white"
             }
            },
            "header": {
             "fill": {
              "color": "#C8D4E3"
             },
             "line": {
              "color": "white"
             }
            },
            "type": "table"
           }
          ]
         },
         "layout": {
          "annotationdefaults": {
           "arrowcolor": "#2a3f5f",
           "arrowhead": 0,
           "arrowwidth": 1
          },
          "autotypenumbers": "strict",
          "coloraxis": {
           "colorbar": {
            "outlinewidth": 0,
            "ticks": ""
           }
          },
          "colorscale": {
           "diverging": [
            [
             0,
             "#8e0152"
            ],
            [
             0.1,
             "#c51b7d"
            ],
            [
             0.2,
             "#de77ae"
            ],
            [
             0.3,
             "#f1b6da"
            ],
            [
             0.4,
             "#fde0ef"
            ],
            [
             0.5,
             "#f7f7f7"
            ],
            [
             0.6,
             "#e6f5d0"
            ],
            [
             0.7,
             "#b8e186"
            ],
            [
             0.8,
             "#7fbc41"
            ],
            [
             0.9,
             "#4d9221"
            ],
            [
             1,
             "#276419"
            ]
           ],
           "sequential": [
            [
             0,
             "#0d0887"
            ],
            [
             0.1111111111111111,
             "#46039f"
            ],
            [
             0.2222222222222222,
             "#7201a8"
            ],
            [
             0.3333333333333333,
             "#9c179e"
            ],
            [
             0.4444444444444444,
             "#bd3786"
            ],
            [
             0.5555555555555556,
             "#d8576b"
            ],
            [
             0.6666666666666666,
             "#ed7953"
            ],
            [
             0.7777777777777778,
             "#fb9f3a"
            ],
            [
             0.8888888888888888,
             "#fdca26"
            ],
            [
             1,
             "#f0f921"
            ]
           ],
           "sequentialminus": [
            [
             0,
             "#0d0887"
            ],
            [
             0.1111111111111111,
             "#46039f"
            ],
            [
             0.2222222222222222,
             "#7201a8"
            ],
            [
             0.3333333333333333,
             "#9c179e"
            ],
            [
             0.4444444444444444,
             "#bd3786"
            ],
            [
             0.5555555555555556,
             "#d8576b"
            ],
            [
             0.6666666666666666,
             "#ed7953"
            ],
            [
             0.7777777777777778,
             "#fb9f3a"
            ],
            [
             0.8888888888888888,
             "#fdca26"
            ],
            [
             1,
             "#f0f921"
            ]
           ]
          },
          "colorway": [
           "#636efa",
           "#EF553B",
           "#00cc96",
           "#ab63fa",
           "#FFA15A",
           "#19d3f3",
           "#FF6692",
           "#B6E880",
           "#FF97FF",
           "#FECB52"
          ],
          "font": {
           "color": "#2a3f5f"
          },
          "geo": {
           "bgcolor": "white",
           "lakecolor": "white",
           "landcolor": "#E5ECF6",
           "showlakes": true,
           "showland": true,
           "subunitcolor": "white"
          },
          "hoverlabel": {
           "align": "left"
          },
          "hovermode": "closest",
          "mapbox": {
           "style": "light"
          },
          "paper_bgcolor": "white",
          "plot_bgcolor": "#E5ECF6",
          "polar": {
           "angularaxis": {
            "gridcolor": "white",
            "linecolor": "white",
            "ticks": ""
           },
           "bgcolor": "#E5ECF6",
           "radialaxis": {
            "gridcolor": "white",
            "linecolor": "white",
            "ticks": ""
           }
          },
          "scene": {
           "xaxis": {
            "backgroundcolor": "#E5ECF6",
            "gridcolor": "white",
            "gridwidth": 2,
            "linecolor": "white",
            "showbackground": true,
            "ticks": "",
            "zerolinecolor": "white"
           },
           "yaxis": {
            "backgroundcolor": "#E5ECF6",
            "gridcolor": "white",
            "gridwidth": 2,
            "linecolor": "white",
            "showbackground": true,
            "ticks": "",
            "zerolinecolor": "white"
           },
           "zaxis": {
            "backgroundcolor": "#E5ECF6",
            "gridcolor": "white",
            "gridwidth": 2,
            "linecolor": "white",
            "showbackground": true,
            "ticks": "",
            "zerolinecolor": "white"
           }
          },
          "shapedefaults": {
           "line": {
            "color": "#2a3f5f"
           }
          },
          "ternary": {
           "aaxis": {
            "gridcolor": "white",
            "linecolor": "white",
            "ticks": ""
           },
           "baxis": {
            "gridcolor": "white",
            "linecolor": "white",
            "ticks": ""
           },
           "bgcolor": "#E5ECF6",
           "caxis": {
            "gridcolor": "white",
            "linecolor": "white",
            "ticks": ""
           }
          },
          "title": {
           "x": 0.05
          },
          "xaxis": {
           "automargin": true,
           "gridcolor": "white",
           "linecolor": "white",
           "ticks": "",
           "title": {
            "standoff": 15
           },
           "zerolinecolor": "white",
           "zerolinewidth": 2
          },
          "yaxis": {
           "automargin": true,
           "gridcolor": "white",
           "linecolor": "white",
           "ticks": "",
           "title": {
            "standoff": 15
           },
           "zerolinecolor": "white",
           "zerolinewidth": 2
          }
         }
        },
        "title": {
         "text": "Relationship betwee Liksa & Impression"
        },
        "xaxis": {
         "anchor": "y",
         "domain": [
          0,
          1
         ],
         "title": {
          "text": "Impressions"
         }
        },
        "yaxis": {
         "anchor": "x",
         "domain": [
          0,
          1
         ],
         "title": {
          "text": "Likes"
         }
        }
       }
      },
      "text/html": [
       "<div>                            <div id=\"593b881f-3d29-4005-97cf-64bb729203cd\" class=\"plotly-graph-div\" style=\"height:525px; width:100%;\"></div>            <script type=\"text/javascript\">                require([\"plotly\"], function(Plotly) {                    window.PLOTLYENV=window.PLOTLYENV || {};                                    if (document.getElementById(\"593b881f-3d29-4005-97cf-64bb729203cd\")) {                    Plotly.newPlot(                        \"593b881f-3d29-4005-97cf-64bb729203cd\",                        [{\"hovertemplate\":\"Impressions=%{x}<br>Likes=%{marker.size}<extra></extra>\",\"legendgroup\":\"\",\"marker\":{\"color\":\"#636efa\",\"size\":[162,224,131,213,123,144,76,124,159,191,81,151,162,142,294,159,205,121,151,72,76,91,195,129,160,175,147,114,151,92,214,150,122,152,196,86,85,156,72,82,416,180,150,127,167,225,137,114,263,328,126,236,99,212,297,142,186,112,149,132,115,248,178,107,269,96,134,301,187,94,114,96,138,122,257,95,244,190,118,178,170,250,159,205,121,151,72,137,114,263,328,126,129,160,175,147,114,151,92,275,192,203,145,168,194,250,171,416,249,308,163,86,210,172,373,148,92,549,443],\"sizemode\":\"area\",\"sizeref\":1.3725,\"symbol\":\"circle\"},\"mode\":\"markers\",\"name\":\"\",\"orientation\":\"v\",\"showlegend\":false,\"x\":[3920,5394,4021,4528,2518,3884,2621,3541,3749,4115,2218,3234,4344,3216,9453,5055,4002,3169,6168,2407,2064,3973,7281,3052,4628,4082,5394,2766,3924,3015,6666,3854,4355,4343,6108,2523,2327,3990,2191,1941,16062,4998,4289,3880,3786,4298,3630,2826,7407,10386,2998,7018,2941,6432,10667,3988,4978,3388,4467,3246,5072,6339,4239,3454,7571,3333,3818,10933,5058,3601,3480,3525,3606,5542,6559,3623,10493,4446,2957,5538,4681,5273,5055,4002,3169,6168,2407,3630,2826,7407,10386,2998,3052,4628,4082,5394,2766,3924,3015,5409,5323,8001,4150,4609,6348,11068,7231,17396,6814,17713,5563,4842,11149,10206,13700,5731,4139,32695,36919],\"xaxis\":\"x\",\"y\":[162,224,131,213,123,144,76,124,159,191,81,151,162,142,294,159,205,121,151,72,76,91,195,129,160,175,147,114,151,92,214,150,122,152,196,86,85,156,72,82,416,180,150,127,167,225,137,114,263,328,126,236,99,212,297,142,186,112,149,132,115,248,178,107,269,96,134,301,187,94,114,96,138,122,257,95,244,190,118,178,170,250,159,205,121,151,72,137,114,263,328,126,129,160,175,147,114,151,92,275,192,203,145,168,194,250,171,416,249,308,163,86,210,172,373,148,92,549,443],\"yaxis\":\"y\",\"type\":\"scatter\"},{\"hovertemplate\":\"<b>OLS trendline</b><br>Likes = 0.0144533 * Impressions + 91.3401<br>R<sup>2</sup>=0.722220<br><br>Impressions=%{x}<br>Likes=%{y} <b>(trend)</b><extra></extra>\",\"legendgroup\":\"\",\"marker\":{\"color\":\"#636efa\",\"symbol\":\"circle\"},\"mode\":\"lines\",\"name\":\"\",\"showlegend\":false,\"x\":[1941,2064,2191,2218,2327,2407,2407,2518,2523,2621,2766,2766,2826,2826,2941,2957,2998,2998,3015,3015,3052,3052,3169,3169,3216,3234,3246,3333,3388,3454,3480,3525,3541,3601,3606,3623,3630,3630,3749,3786,3818,3854,3880,3884,3920,3924,3924,3973,3988,3990,4002,4002,4021,4082,4082,4115,4139,4150,4239,4289,4298,4343,4344,4355,4446,4467,4528,4609,4628,4628,4681,4842,4978,4998,5055,5055,5058,5072,5273,5323,5394,5394,5394,5409,5538,5542,5563,5731,6108,6168,6168,6339,6348,6432,6559,6666,6814,7018,7231,7281,7407,7407,7571,8001,9453,10206,10386,10386,10493,10667,10933,11068,11149,13700,16062,17396,17713,32695,36919],\"xaxis\":\"x\",\"y\":[119.393918281271,121.1716724776395,123.00723981860537,123.3974785446375,124.97288673491528,126.12914962686229,126.12914962686229,127.73346438943875,127.80573082018545,129.2221528628205,131.31787935447448,131.31787935447448,132.18507652343473,132.18507652343473,133.84720443060854,134.07845700899793,134.67104174112077,134.67104174112077,134.9167476056595,134.9167476056595,135.451519193185,135.451519193185,137.1425536726575,137.1425536726575,137.82185812167637,138.08201727236445,138.2554567061565,139.51289260114885,140.30782333936241,141.26174022521872,141.63752566510146,142.28792354182167,142.51917612021106,143.38637328917133,143.458639719918,143.70434558445675,143.80551858750212,143.80551858750212,145.52545963927327,146.06023122679878,146.52273638357758,147.04305468495372,147.4188401248365,147.47665326943385,147.99697157081,148.05478471540735,148.05478471540735,148.7629957367249,148.97979502896496,149.00870160126362,149.18214103505568,149.18214103505568,149.45675347189308,150.33840392700267,150.33840392700267,150.81536236993082,151.16224123751493,151.32122738515764,152.60756985244868,153.33023415991556,153.4603137352596,154.11071161197978,154.12516489812913,154.28415104577184,155.59940008536154,155.90291909449763,156.78456954960723,157.95528572770357,158.229898164541,158.229898164541,158.99592233045587,161.32290140049923,163.2885483168091,163.5776140397959,164.40145135030812,164.40145135030812,164.44481120875614,164.64715721484686,167.55226773086372,168.27493203833058,169.30111535493353,169.30111535493353,169.30111535493353,169.5179146471736,171.38238856043816,171.44020170503552,171.7437207141716,174.1718727872603,179.62076166556056,180.4879588345208,180.4879588345208,182.95947076605754,183.08955034140155,184.30362637794593,186.13919371891177,187.6856953368909,189.82478168699288,192.77325206145773,195.8518020112666,196.5744663187335,198.39558037355005,198.39558037355005,200.7659193020414,206.98083234625653,227.96700383509466,238.85032830554584,241.45191981242658,241.45191981242658,242.9984214304057,245.51329322039044,249.35786733611423,251.30906096627479,252.47977714437113,289.3501101113312,323.4887719960665,342.7694557192828,347.3511474286228,563.890280517998,624.9409612127997],\"yaxis\":\"y\",\"type\":\"scatter\"}],                        {\"template\":{\"data\":{\"histogram2dcontour\":[{\"type\":\"histogram2dcontour\",\"colorbar\":{\"outlinewidth\":0,\"ticks\":\"\"},\"colorscale\":[[0.0,\"#0d0887\"],[0.1111111111111111,\"#46039f\"],[0.2222222222222222,\"#7201a8\"],[0.3333333333333333,\"#9c179e\"],[0.4444444444444444,\"#bd3786\"],[0.5555555555555556,\"#d8576b\"],[0.6666666666666666,\"#ed7953\"],[0.7777777777777778,\"#fb9f3a\"],[0.8888888888888888,\"#fdca26\"],[1.0,\"#f0f921\"]]}],\"choropleth\":[{\"type\":\"choropleth\",\"colorbar\":{\"outlinewidth\":0,\"ticks\":\"\"}}],\"histogram2d\":[{\"type\":\"histogram2d\",\"colorbar\":{\"outlinewidth\":0,\"ticks\":\"\"},\"colorscale\":[[0.0,\"#0d0887\"],[0.1111111111111111,\"#46039f\"],[0.2222222222222222,\"#7201a8\"],[0.3333333333333333,\"#9c179e\"],[0.4444444444444444,\"#bd3786\"],[0.5555555555555556,\"#d8576b\"],[0.6666666666666666,\"#ed7953\"],[0.7777777777777778,\"#fb9f3a\"],[0.8888888888888888,\"#fdca26\"],[1.0,\"#f0f921\"]]}],\"heatmap\":[{\"type\":\"heatmap\",\"colorbar\":{\"outlinewidth\":0,\"ticks\":\"\"},\"colorscale\":[[0.0,\"#0d0887\"],[0.1111111111111111,\"#46039f\"],[0.2222222222222222,\"#7201a8\"],[0.3333333333333333,\"#9c179e\"],[0.4444444444444444,\"#bd3786\"],[0.5555555555555556,\"#d8576b\"],[0.6666666666666666,\"#ed7953\"],[0.7777777777777778,\"#fb9f3a\"],[0.8888888888888888,\"#fdca26\"],[1.0,\"#f0f921\"]]}],\"heatmapgl\":[{\"type\":\"heatmapgl\",\"colorbar\":{\"outlinewidth\":0,\"ticks\":\"\"},\"colorscale\":[[0.0,\"#0d0887\"],[0.1111111111111111,\"#46039f\"],[0.2222222222222222,\"#7201a8\"],[0.3333333333333333,\"#9c179e\"],[0.4444444444444444,\"#bd3786\"],[0.5555555555555556,\"#d8576b\"],[0.6666666666666666,\"#ed7953\"],[0.7777777777777778,\"#fb9f3a\"],[0.8888888888888888,\"#fdca26\"],[1.0,\"#f0f921\"]]}],\"contourcarpet\":[{\"type\":\"contourcarpet\",\"colorbar\":{\"outlinewidth\":0,\"ticks\":\"\"}}],\"contour\":[{\"type\":\"contour\",\"colorbar\":{\"outlinewidth\":0,\"ticks\":\"\"},\"colorscale\":[[0.0,\"#0d0887\"],[0.1111111111111111,\"#46039f\"],[0.2222222222222222,\"#7201a8\"],[0.3333333333333333,\"#9c179e\"],[0.4444444444444444,\"#bd3786\"],[0.5555555555555556,\"#d8576b\"],[0.6666666666666666,\"#ed7953\"],[0.7777777777777778,\"#fb9f3a\"],[0.8888888888888888,\"#fdca26\"],[1.0,\"#f0f921\"]]}],\"surface\":[{\"type\":\"surface\",\"colorbar\":{\"outlinewidth\":0,\"ticks\":\"\"},\"colorscale\":[[0.0,\"#0d0887\"],[0.1111111111111111,\"#46039f\"],[0.2222222222222222,\"#7201a8\"],[0.3333333333333333,\"#9c179e\"],[0.4444444444444444,\"#bd3786\"],[0.5555555555555556,\"#d8576b\"],[0.6666666666666666,\"#ed7953\"],[0.7777777777777778,\"#fb9f3a\"],[0.8888888888888888,\"#fdca26\"],[1.0,\"#f0f921\"]]}],\"mesh3d\":[{\"type\":\"mesh3d\",\"colorbar\":{\"outlinewidth\":0,\"ticks\":\"\"}}],\"scatter\":[{\"fillpattern\":{\"fillmode\":\"overlay\",\"size\":10,\"solidity\":0.2},\"type\":\"scatter\"}],\"parcoords\":[{\"type\":\"parcoords\",\"line\":{\"colorbar\":{\"outlinewidth\":0,\"ticks\":\"\"}}}],\"scatterpolargl\":[{\"type\":\"scatterpolargl\",\"marker\":{\"colorbar\":{\"outlinewidth\":0,\"ticks\":\"\"}}}],\"bar\":[{\"error_x\":{\"color\":\"#2a3f5f\"},\"error_y\":{\"color\":\"#2a3f5f\"},\"marker\":{\"line\":{\"color\":\"#E5ECF6\",\"width\":0.5},\"pattern\":{\"fillmode\":\"overlay\",\"size\":10,\"solidity\":0.2}},\"type\":\"bar\"}],\"scattergeo\":[{\"type\":\"scattergeo\",\"marker\":{\"colorbar\":{\"outlinewidth\":0,\"ticks\":\"\"}}}],\"scatterpolar\":[{\"type\":\"scatterpolar\",\"marker\":{\"colorbar\":{\"outlinewidth\":0,\"ticks\":\"\"}}}],\"histogram\":[{\"marker\":{\"pattern\":{\"fillmode\":\"overlay\",\"size\":10,\"solidity\":0.2}},\"type\":\"histogram\"}],\"scattergl\":[{\"type\":\"scattergl\",\"marker\":{\"colorbar\":{\"outlinewidth\":0,\"ticks\":\"\"}}}],\"scatter3d\":[{\"type\":\"scatter3d\",\"line\":{\"colorbar\":{\"outlinewidth\":0,\"ticks\":\"\"}},\"marker\":{\"colorbar\":{\"outlinewidth\":0,\"ticks\":\"\"}}}],\"scattermapbox\":[{\"type\":\"scattermapbox\",\"marker\":{\"colorbar\":{\"outlinewidth\":0,\"ticks\":\"\"}}}],\"scatterternary\":[{\"type\":\"scatterternary\",\"marker\":{\"colorbar\":{\"outlinewidth\":0,\"ticks\":\"\"}}}],\"scattercarpet\":[{\"type\":\"scattercarpet\",\"marker\":{\"colorbar\":{\"outlinewidth\":0,\"ticks\":\"\"}}}],\"carpet\":[{\"aaxis\":{\"endlinecolor\":\"#2a3f5f\",\"gridcolor\":\"white\",\"linecolor\":\"white\",\"minorgridcolor\":\"white\",\"startlinecolor\":\"#2a3f5f\"},\"baxis\":{\"endlinecolor\":\"#2a3f5f\",\"gridcolor\":\"white\",\"linecolor\":\"white\",\"minorgridcolor\":\"white\",\"startlinecolor\":\"#2a3f5f\"},\"type\":\"carpet\"}],\"table\":[{\"cells\":{\"fill\":{\"color\":\"#EBF0F8\"},\"line\":{\"color\":\"white\"}},\"header\":{\"fill\":{\"color\":\"#C8D4E3\"},\"line\":{\"color\":\"white\"}},\"type\":\"table\"}],\"barpolar\":[{\"marker\":{\"line\":{\"color\":\"#E5ECF6\",\"width\":0.5},\"pattern\":{\"fillmode\":\"overlay\",\"size\":10,\"solidity\":0.2}},\"type\":\"barpolar\"}],\"pie\":[{\"automargin\":true,\"type\":\"pie\"}]},\"layout\":{\"autotypenumbers\":\"strict\",\"colorway\":[\"#636efa\",\"#EF553B\",\"#00cc96\",\"#ab63fa\",\"#FFA15A\",\"#19d3f3\",\"#FF6692\",\"#B6E880\",\"#FF97FF\",\"#FECB52\"],\"font\":{\"color\":\"#2a3f5f\"},\"hovermode\":\"closest\",\"hoverlabel\":{\"align\":\"left\"},\"paper_bgcolor\":\"white\",\"plot_bgcolor\":\"#E5ECF6\",\"polar\":{\"bgcolor\":\"#E5ECF6\",\"angularaxis\":{\"gridcolor\":\"white\",\"linecolor\":\"white\",\"ticks\":\"\"},\"radialaxis\":{\"gridcolor\":\"white\",\"linecolor\":\"white\",\"ticks\":\"\"}},\"ternary\":{\"bgcolor\":\"#E5ECF6\",\"aaxis\":{\"gridcolor\":\"white\",\"linecolor\":\"white\",\"ticks\":\"\"},\"baxis\":{\"gridcolor\":\"white\",\"linecolor\":\"white\",\"ticks\":\"\"},\"caxis\":{\"gridcolor\":\"white\",\"linecolor\":\"white\",\"ticks\":\"\"}},\"coloraxis\":{\"colorbar\":{\"outlinewidth\":0,\"ticks\":\"\"}},\"colorscale\":{\"sequential\":[[0.0,\"#0d0887\"],[0.1111111111111111,\"#46039f\"],[0.2222222222222222,\"#7201a8\"],[0.3333333333333333,\"#9c179e\"],[0.4444444444444444,\"#bd3786\"],[0.5555555555555556,\"#d8576b\"],[0.6666666666666666,\"#ed7953\"],[0.7777777777777778,\"#fb9f3a\"],[0.8888888888888888,\"#fdca26\"],[1.0,\"#f0f921\"]],\"sequentialminus\":[[0.0,\"#0d0887\"],[0.1111111111111111,\"#46039f\"],[0.2222222222222222,\"#7201a8\"],[0.3333333333333333,\"#9c179e\"],[0.4444444444444444,\"#bd3786\"],[0.5555555555555556,\"#d8576b\"],[0.6666666666666666,\"#ed7953\"],[0.7777777777777778,\"#fb9f3a\"],[0.8888888888888888,\"#fdca26\"],[1.0,\"#f0f921\"]],\"diverging\":[[0,\"#8e0152\"],[0.1,\"#c51b7d\"],[0.2,\"#de77ae\"],[0.3,\"#f1b6da\"],[0.4,\"#fde0ef\"],[0.5,\"#f7f7f7\"],[0.6,\"#e6f5d0\"],[0.7,\"#b8e186\"],[0.8,\"#7fbc41\"],[0.9,\"#4d9221\"],[1,\"#276419\"]]},\"xaxis\":{\"gridcolor\":\"white\",\"linecolor\":\"white\",\"ticks\":\"\",\"title\":{\"standoff\":15},\"zerolinecolor\":\"white\",\"automargin\":true,\"zerolinewidth\":2},\"yaxis\":{\"gridcolor\":\"white\",\"linecolor\":\"white\",\"ticks\":\"\",\"title\":{\"standoff\":15},\"zerolinecolor\":\"white\",\"automargin\":true,\"zerolinewidth\":2},\"scene\":{\"xaxis\":{\"backgroundcolor\":\"#E5ECF6\",\"gridcolor\":\"white\",\"linecolor\":\"white\",\"showbackground\":true,\"ticks\":\"\",\"zerolinecolor\":\"white\",\"gridwidth\":2},\"yaxis\":{\"backgroundcolor\":\"#E5ECF6\",\"gridcolor\":\"white\",\"linecolor\":\"white\",\"showbackground\":true,\"ticks\":\"\",\"zerolinecolor\":\"white\",\"gridwidth\":2},\"zaxis\":{\"backgroundcolor\":\"#E5ECF6\",\"gridcolor\":\"white\",\"linecolor\":\"white\",\"showbackground\":true,\"ticks\":\"\",\"zerolinecolor\":\"white\",\"gridwidth\":2}},\"shapedefaults\":{\"line\":{\"color\":\"#2a3f5f\"}},\"annotationdefaults\":{\"arrowcolor\":\"#2a3f5f\",\"arrowhead\":0,\"arrowwidth\":1},\"geo\":{\"bgcolor\":\"white\",\"landcolor\":\"#E5ECF6\",\"subunitcolor\":\"white\",\"showland\":true,\"showlakes\":true,\"lakecolor\":\"white\"},\"title\":{\"x\":0.05},\"mapbox\":{\"style\":\"light\"}}},\"xaxis\":{\"anchor\":\"y\",\"domain\":[0.0,1.0],\"title\":{\"text\":\"Impressions\"}},\"yaxis\":{\"anchor\":\"x\",\"domain\":[0.0,1.0],\"title\":{\"text\":\"Likes\"}},\"legend\":{\"tracegroupgap\":0,\"itemsizing\":\"constant\"},\"title\":{\"text\":\"Relationship betwee Liksa & Impression\"}},                        {\"responsive\": true}                    ).then(function(){\n",
       "                            \n",
       "var gd = document.getElementById('593b881f-3d29-4005-97cf-64bb729203cd');\n",
       "var x = new MutationObserver(function (mutations, observer) {{\n",
       "        var display = window.getComputedStyle(gd).display;\n",
       "        if (!display || display === 'none') {{\n",
       "            console.log([gd, 'removed!']);\n",
       "            Plotly.purge(gd);\n",
       "            observer.disconnect();\n",
       "        }}\n",
       "}});\n",
       "\n",
       "// Listen for the removal of the full notebook cells\n",
       "var notebookContainer = gd.closest('#notebook-container');\n",
       "if (notebookContainer) {{\n",
       "    x.observe(notebookContainer, {childList: true});\n",
       "}}\n",
       "\n",
       "// Listen for the clearing of the current output cell\n",
       "var outputEl = gd.closest('.output');\n",
       "if (outputEl) {{\n",
       "    x.observe(outputEl, {childList: true});\n",
       "}}\n",
       "\n",
       "                        })                };                });            </script>        </div>"
      ]
     },
     "metadata": {},
     "output_type": "display_data"
    }
   ],
   "source": [
    "figure=px.scatter(df,x=\"Impressions\",\n",
    "                 y=\"Likes\",size=\"Likes\", trendline=\"ols\", title=\"Relationship betwee Liksa & Impression\")\n",
    "figure.show()"
   ]
  },
  {
   "cell_type": "code",
   "execution_count": 15,
   "metadata": {},
   "outputs": [],
   "source": [
    "# "
   ]
  },
  {
   "cell_type": "code",
   "execution_count": 20,
   "metadata": {},
   "outputs": [
    {
     "data": {
      "application/vnd.plotly.v1+json": {
       "config": {
        "plotlyServerURL": "https://plot.ly"
       },
       "data": [
        {
         "hovertemplate": "Impressions=%{x}<br>Likes=%{marker.size}<extra></extra>",
         "legendgroup": "",
         "marker": {
          "color": "#636efa",
          "size": [
           162,
           224,
           131,
           213,
           123,
           144,
           76,
           124,
           159,
           191,
           81,
           151,
           162,
           142,
           294,
           159,
           205,
           121,
           151,
           72,
           76,
           91,
           195,
           129,
           160,
           175,
           147,
           114,
           151,
           92,
           214,
           150,
           122,
           152,
           196,
           86,
           85,
           156,
           72,
           82,
           416,
           180,
           150,
           127,
           167,
           225,
           137,
           114,
           263,
           328,
           126,
           236,
           99,
           212,
           297,
           142,
           186,
           112,
           149,
           132,
           115,
           248,
           178,
           107,
           269,
           96,
           134,
           301,
           187,
           94,
           114,
           96,
           138,
           122,
           257,
           95,
           244,
           190,
           118,
           178,
           170,
           250,
           159,
           205,
           121,
           151,
           72,
           137,
           114,
           263,
           328,
           126,
           129,
           160,
           175,
           147,
           114,
           151,
           92,
           275,
           192,
           203,
           145,
           168,
           194,
           250,
           171,
           416,
           249,
           308,
           163,
           86,
           210,
           172,
           373,
           148,
           92,
           549,
           443
          ],
          "sizemode": "area",
          "sizeref": 1.3725,
          "symbol": "circle"
         },
         "mode": "markers",
         "name": "",
         "orientation": "v",
         "showlegend": false,
         "type": "scatter",
         "x": [
          3920,
          5394,
          4021,
          4528,
          2518,
          3884,
          2621,
          3541,
          3749,
          4115,
          2218,
          3234,
          4344,
          3216,
          9453,
          5055,
          4002,
          3169,
          6168,
          2407,
          2064,
          3973,
          7281,
          3052,
          4628,
          4082,
          5394,
          2766,
          3924,
          3015,
          6666,
          3854,
          4355,
          4343,
          6108,
          2523,
          2327,
          3990,
          2191,
          1941,
          16062,
          4998,
          4289,
          3880,
          3786,
          4298,
          3630,
          2826,
          7407,
          10386,
          2998,
          7018,
          2941,
          6432,
          10667,
          3988,
          4978,
          3388,
          4467,
          3246,
          5072,
          6339,
          4239,
          3454,
          7571,
          3333,
          3818,
          10933,
          5058,
          3601,
          3480,
          3525,
          3606,
          5542,
          6559,
          3623,
          10493,
          4446,
          2957,
          5538,
          4681,
          5273,
          5055,
          4002,
          3169,
          6168,
          2407,
          3630,
          2826,
          7407,
          10386,
          2998,
          3052,
          4628,
          4082,
          5394,
          2766,
          3924,
          3015,
          5409,
          5323,
          8001,
          4150,
          4609,
          6348,
          11068,
          7231,
          17396,
          6814,
          17713,
          5563,
          4842,
          11149,
          10206,
          13700,
          5731,
          4139,
          32695,
          36919
         ],
         "xaxis": "x",
         "y": [
          162,
          224,
          131,
          213,
          123,
          144,
          76,
          124,
          159,
          191,
          81,
          151,
          162,
          142,
          294,
          159,
          205,
          121,
          151,
          72,
          76,
          91,
          195,
          129,
          160,
          175,
          147,
          114,
          151,
          92,
          214,
          150,
          122,
          152,
          196,
          86,
          85,
          156,
          72,
          82,
          416,
          180,
          150,
          127,
          167,
          225,
          137,
          114,
          263,
          328,
          126,
          236,
          99,
          212,
          297,
          142,
          186,
          112,
          149,
          132,
          115,
          248,
          178,
          107,
          269,
          96,
          134,
          301,
          187,
          94,
          114,
          96,
          138,
          122,
          257,
          95,
          244,
          190,
          118,
          178,
          170,
          250,
          159,
          205,
          121,
          151,
          72,
          137,
          114,
          263,
          328,
          126,
          129,
          160,
          175,
          147,
          114,
          151,
          92,
          275,
          192,
          203,
          145,
          168,
          194,
          250,
          171,
          416,
          249,
          308,
          163,
          86,
          210,
          172,
          373,
          148,
          92,
          549,
          443
         ],
         "yaxis": "y"
        },
        {
         "hovertemplate": "<b>OLS trendline</b><br>Likes = 0.0144533 * Impressions + 91.3401<br>R<sup>2</sup>=0.722220<br><br>Impressions=%{x}<br>Likes=%{y} <b>(trend)</b><extra></extra>",
         "legendgroup": "",
         "marker": {
          "color": "#636efa",
          "symbol": "circle"
         },
         "mode": "lines",
         "name": "",
         "showlegend": false,
         "type": "scatter",
         "x": [
          1941,
          2064,
          2191,
          2218,
          2327,
          2407,
          2407,
          2518,
          2523,
          2621,
          2766,
          2766,
          2826,
          2826,
          2941,
          2957,
          2998,
          2998,
          3015,
          3015,
          3052,
          3052,
          3169,
          3169,
          3216,
          3234,
          3246,
          3333,
          3388,
          3454,
          3480,
          3525,
          3541,
          3601,
          3606,
          3623,
          3630,
          3630,
          3749,
          3786,
          3818,
          3854,
          3880,
          3884,
          3920,
          3924,
          3924,
          3973,
          3988,
          3990,
          4002,
          4002,
          4021,
          4082,
          4082,
          4115,
          4139,
          4150,
          4239,
          4289,
          4298,
          4343,
          4344,
          4355,
          4446,
          4467,
          4528,
          4609,
          4628,
          4628,
          4681,
          4842,
          4978,
          4998,
          5055,
          5055,
          5058,
          5072,
          5273,
          5323,
          5394,
          5394,
          5394,
          5409,
          5538,
          5542,
          5563,
          5731,
          6108,
          6168,
          6168,
          6339,
          6348,
          6432,
          6559,
          6666,
          6814,
          7018,
          7231,
          7281,
          7407,
          7407,
          7571,
          8001,
          9453,
          10206,
          10386,
          10386,
          10493,
          10667,
          10933,
          11068,
          11149,
          13700,
          16062,
          17396,
          17713,
          32695,
          36919
         ],
         "xaxis": "x",
         "y": [
          119.393918281271,
          121.1716724776395,
          123.00723981860537,
          123.3974785446375,
          124.97288673491528,
          126.12914962686229,
          126.12914962686229,
          127.73346438943875,
          127.80573082018545,
          129.2221528628205,
          131.31787935447448,
          131.31787935447448,
          132.18507652343473,
          132.18507652343473,
          133.84720443060854,
          134.07845700899793,
          134.67104174112077,
          134.67104174112077,
          134.9167476056595,
          134.9167476056595,
          135.451519193185,
          135.451519193185,
          137.1425536726575,
          137.1425536726575,
          137.82185812167637,
          138.08201727236445,
          138.2554567061565,
          139.51289260114885,
          140.30782333936241,
          141.26174022521872,
          141.63752566510146,
          142.28792354182167,
          142.51917612021106,
          143.38637328917133,
          143.458639719918,
          143.70434558445675,
          143.80551858750212,
          143.80551858750212,
          145.52545963927327,
          146.06023122679878,
          146.52273638357758,
          147.04305468495372,
          147.4188401248365,
          147.47665326943385,
          147.99697157081,
          148.05478471540735,
          148.05478471540735,
          148.7629957367249,
          148.97979502896496,
          149.00870160126362,
          149.18214103505568,
          149.18214103505568,
          149.45675347189308,
          150.33840392700267,
          150.33840392700267,
          150.81536236993082,
          151.16224123751493,
          151.32122738515764,
          152.60756985244868,
          153.33023415991556,
          153.4603137352596,
          154.11071161197978,
          154.12516489812913,
          154.28415104577184,
          155.59940008536154,
          155.90291909449763,
          156.78456954960723,
          157.95528572770357,
          158.229898164541,
          158.229898164541,
          158.99592233045587,
          161.32290140049923,
          163.2885483168091,
          163.5776140397959,
          164.40145135030812,
          164.40145135030812,
          164.44481120875614,
          164.64715721484686,
          167.55226773086372,
          168.27493203833058,
          169.30111535493353,
          169.30111535493353,
          169.30111535493353,
          169.5179146471736,
          171.38238856043816,
          171.44020170503552,
          171.7437207141716,
          174.1718727872603,
          179.62076166556056,
          180.4879588345208,
          180.4879588345208,
          182.95947076605754,
          183.08955034140155,
          184.30362637794593,
          186.13919371891177,
          187.6856953368909,
          189.82478168699288,
          192.77325206145773,
          195.8518020112666,
          196.5744663187335,
          198.39558037355005,
          198.39558037355005,
          200.7659193020414,
          206.98083234625653,
          227.96700383509466,
          238.85032830554584,
          241.45191981242658,
          241.45191981242658,
          242.9984214304057,
          245.51329322039044,
          249.35786733611423,
          251.30906096627479,
          252.47977714437113,
          289.3501101113312,
          323.4887719960665,
          342.7694557192828,
          347.3511474286228,
          563.890280517998,
          624.9409612127997
         ],
         "yaxis": "y"
        }
       ],
       "layout": {
        "legend": {
         "itemsizing": "constant",
         "tracegroupgap": 0
        },
        "template": {
         "data": {
          "bar": [
           {
            "error_x": {
             "color": "#2a3f5f"
            },
            "error_y": {
             "color": "#2a3f5f"
            },
            "marker": {
             "line": {
              "color": "#E5ECF6",
              "width": 0.5
             },
             "pattern": {
              "fillmode": "overlay",
              "size": 10,
              "solidity": 0.2
             }
            },
            "type": "bar"
           }
          ],
          "barpolar": [
           {
            "marker": {
             "line": {
              "color": "#E5ECF6",
              "width": 0.5
             },
             "pattern": {
              "fillmode": "overlay",
              "size": 10,
              "solidity": 0.2
             }
            },
            "type": "barpolar"
           }
          ],
          "carpet": [
           {
            "aaxis": {
             "endlinecolor": "#2a3f5f",
             "gridcolor": "white",
             "linecolor": "white",
             "minorgridcolor": "white",
             "startlinecolor": "#2a3f5f"
            },
            "baxis": {
             "endlinecolor": "#2a3f5f",
             "gridcolor": "white",
             "linecolor": "white",
             "minorgridcolor": "white",
             "startlinecolor": "#2a3f5f"
            },
            "type": "carpet"
           }
          ],
          "choropleth": [
           {
            "colorbar": {
             "outlinewidth": 0,
             "ticks": ""
            },
            "type": "choropleth"
           }
          ],
          "contour": [
           {
            "colorbar": {
             "outlinewidth": 0,
             "ticks": ""
            },
            "colorscale": [
             [
              0,
              "#0d0887"
             ],
             [
              0.1111111111111111,
              "#46039f"
             ],
             [
              0.2222222222222222,
              "#7201a8"
             ],
             [
              0.3333333333333333,
              "#9c179e"
             ],
             [
              0.4444444444444444,
              "#bd3786"
             ],
             [
              0.5555555555555556,
              "#d8576b"
             ],
             [
              0.6666666666666666,
              "#ed7953"
             ],
             [
              0.7777777777777778,
              "#fb9f3a"
             ],
             [
              0.8888888888888888,
              "#fdca26"
             ],
             [
              1,
              "#f0f921"
             ]
            ],
            "type": "contour"
           }
          ],
          "contourcarpet": [
           {
            "colorbar": {
             "outlinewidth": 0,
             "ticks": ""
            },
            "type": "contourcarpet"
           }
          ],
          "heatmap": [
           {
            "colorbar": {
             "outlinewidth": 0,
             "ticks": ""
            },
            "colorscale": [
             [
              0,
              "#0d0887"
             ],
             [
              0.1111111111111111,
              "#46039f"
             ],
             [
              0.2222222222222222,
              "#7201a8"
             ],
             [
              0.3333333333333333,
              "#9c179e"
             ],
             [
              0.4444444444444444,
              "#bd3786"
             ],
             [
              0.5555555555555556,
              "#d8576b"
             ],
             [
              0.6666666666666666,
              "#ed7953"
             ],
             [
              0.7777777777777778,
              "#fb9f3a"
             ],
             [
              0.8888888888888888,
              "#fdca26"
             ],
             [
              1,
              "#f0f921"
             ]
            ],
            "type": "heatmap"
           }
          ],
          "heatmapgl": [
           {
            "colorbar": {
             "outlinewidth": 0,
             "ticks": ""
            },
            "colorscale": [
             [
              0,
              "#0d0887"
             ],
             [
              0.1111111111111111,
              "#46039f"
             ],
             [
              0.2222222222222222,
              "#7201a8"
             ],
             [
              0.3333333333333333,
              "#9c179e"
             ],
             [
              0.4444444444444444,
              "#bd3786"
             ],
             [
              0.5555555555555556,
              "#d8576b"
             ],
             [
              0.6666666666666666,
              "#ed7953"
             ],
             [
              0.7777777777777778,
              "#fb9f3a"
             ],
             [
              0.8888888888888888,
              "#fdca26"
             ],
             [
              1,
              "#f0f921"
             ]
            ],
            "type": "heatmapgl"
           }
          ],
          "histogram": [
           {
            "marker": {
             "pattern": {
              "fillmode": "overlay",
              "size": 10,
              "solidity": 0.2
             }
            },
            "type": "histogram"
           }
          ],
          "histogram2d": [
           {
            "colorbar": {
             "outlinewidth": 0,
             "ticks": ""
            },
            "colorscale": [
             [
              0,
              "#0d0887"
             ],
             [
              0.1111111111111111,
              "#46039f"
             ],
             [
              0.2222222222222222,
              "#7201a8"
             ],
             [
              0.3333333333333333,
              "#9c179e"
             ],
             [
              0.4444444444444444,
              "#bd3786"
             ],
             [
              0.5555555555555556,
              "#d8576b"
             ],
             [
              0.6666666666666666,
              "#ed7953"
             ],
             [
              0.7777777777777778,
              "#fb9f3a"
             ],
             [
              0.8888888888888888,
              "#fdca26"
             ],
             [
              1,
              "#f0f921"
             ]
            ],
            "type": "histogram2d"
           }
          ],
          "histogram2dcontour": [
           {
            "colorbar": {
             "outlinewidth": 0,
             "ticks": ""
            },
            "colorscale": [
             [
              0,
              "#0d0887"
             ],
             [
              0.1111111111111111,
              "#46039f"
             ],
             [
              0.2222222222222222,
              "#7201a8"
             ],
             [
              0.3333333333333333,
              "#9c179e"
             ],
             [
              0.4444444444444444,
              "#bd3786"
             ],
             [
              0.5555555555555556,
              "#d8576b"
             ],
             [
              0.6666666666666666,
              "#ed7953"
             ],
             [
              0.7777777777777778,
              "#fb9f3a"
             ],
             [
              0.8888888888888888,
              "#fdca26"
             ],
             [
              1,
              "#f0f921"
             ]
            ],
            "type": "histogram2dcontour"
           }
          ],
          "mesh3d": [
           {
            "colorbar": {
             "outlinewidth": 0,
             "ticks": ""
            },
            "type": "mesh3d"
           }
          ],
          "parcoords": [
           {
            "line": {
             "colorbar": {
              "outlinewidth": 0,
              "ticks": ""
             }
            },
            "type": "parcoords"
           }
          ],
          "pie": [
           {
            "automargin": true,
            "type": "pie"
           }
          ],
          "scatter": [
           {
            "fillpattern": {
             "fillmode": "overlay",
             "size": 10,
             "solidity": 0.2
            },
            "type": "scatter"
           }
          ],
          "scatter3d": [
           {
            "line": {
             "colorbar": {
              "outlinewidth": 0,
              "ticks": ""
             }
            },
            "marker": {
             "colorbar": {
              "outlinewidth": 0,
              "ticks": ""
             }
            },
            "type": "scatter3d"
           }
          ],
          "scattercarpet": [
           {
            "marker": {
             "colorbar": {
              "outlinewidth": 0,
              "ticks": ""
             }
            },
            "type": "scattercarpet"
           }
          ],
          "scattergeo": [
           {
            "marker": {
             "colorbar": {
              "outlinewidth": 0,
              "ticks": ""
             }
            },
            "type": "scattergeo"
           }
          ],
          "scattergl": [
           {
            "marker": {
             "colorbar": {
              "outlinewidth": 0,
              "ticks": ""
             }
            },
            "type": "scattergl"
           }
          ],
          "scattermapbox": [
           {
            "marker": {
             "colorbar": {
              "outlinewidth": 0,
              "ticks": ""
             }
            },
            "type": "scattermapbox"
           }
          ],
          "scatterpolar": [
           {
            "marker": {
             "colorbar": {
              "outlinewidth": 0,
              "ticks": ""
             }
            },
            "type": "scatterpolar"
           }
          ],
          "scatterpolargl": [
           {
            "marker": {
             "colorbar": {
              "outlinewidth": 0,
              "ticks": ""
             }
            },
            "type": "scatterpolargl"
           }
          ],
          "scatterternary": [
           {
            "marker": {
             "colorbar": {
              "outlinewidth": 0,
              "ticks": ""
             }
            },
            "type": "scatterternary"
           }
          ],
          "surface": [
           {
            "colorbar": {
             "outlinewidth": 0,
             "ticks": ""
            },
            "colorscale": [
             [
              0,
              "#0d0887"
             ],
             [
              0.1111111111111111,
              "#46039f"
             ],
             [
              0.2222222222222222,
              "#7201a8"
             ],
             [
              0.3333333333333333,
              "#9c179e"
             ],
             [
              0.4444444444444444,
              "#bd3786"
             ],
             [
              0.5555555555555556,
              "#d8576b"
             ],
             [
              0.6666666666666666,
              "#ed7953"
             ],
             [
              0.7777777777777778,
              "#fb9f3a"
             ],
             [
              0.8888888888888888,
              "#fdca26"
             ],
             [
              1,
              "#f0f921"
             ]
            ],
            "type": "surface"
           }
          ],
          "table": [
           {
            "cells": {
             "fill": {
              "color": "#EBF0F8"
             },
             "line": {
              "color": "white"
             }
            },
            "header": {
             "fill": {
              "color": "#C8D4E3"
             },
             "line": {
              "color": "white"
             }
            },
            "type": "table"
           }
          ]
         },
         "layout": {
          "annotationdefaults": {
           "arrowcolor": "#2a3f5f",
           "arrowhead": 0,
           "arrowwidth": 1
          },
          "autotypenumbers": "strict",
          "coloraxis": {
           "colorbar": {
            "outlinewidth": 0,
            "ticks": ""
           }
          },
          "colorscale": {
           "diverging": [
            [
             0,
             "#8e0152"
            ],
            [
             0.1,
             "#c51b7d"
            ],
            [
             0.2,
             "#de77ae"
            ],
            [
             0.3,
             "#f1b6da"
            ],
            [
             0.4,
             "#fde0ef"
            ],
            [
             0.5,
             "#f7f7f7"
            ],
            [
             0.6,
             "#e6f5d0"
            ],
            [
             0.7,
             "#b8e186"
            ],
            [
             0.8,
             "#7fbc41"
            ],
            [
             0.9,
             "#4d9221"
            ],
            [
             1,
             "#276419"
            ]
           ],
           "sequential": [
            [
             0,
             "#0d0887"
            ],
            [
             0.1111111111111111,
             "#46039f"
            ],
            [
             0.2222222222222222,
             "#7201a8"
            ],
            [
             0.3333333333333333,
             "#9c179e"
            ],
            [
             0.4444444444444444,
             "#bd3786"
            ],
            [
             0.5555555555555556,
             "#d8576b"
            ],
            [
             0.6666666666666666,
             "#ed7953"
            ],
            [
             0.7777777777777778,
             "#fb9f3a"
            ],
            [
             0.8888888888888888,
             "#fdca26"
            ],
            [
             1,
             "#f0f921"
            ]
           ],
           "sequentialminus": [
            [
             0,
             "#0d0887"
            ],
            [
             0.1111111111111111,
             "#46039f"
            ],
            [
             0.2222222222222222,
             "#7201a8"
            ],
            [
             0.3333333333333333,
             "#9c179e"
            ],
            [
             0.4444444444444444,
             "#bd3786"
            ],
            [
             0.5555555555555556,
             "#d8576b"
            ],
            [
             0.6666666666666666,
             "#ed7953"
            ],
            [
             0.7777777777777778,
             "#fb9f3a"
            ],
            [
             0.8888888888888888,
             "#fdca26"
            ],
            [
             1,
             "#f0f921"
            ]
           ]
          },
          "colorway": [
           "#636efa",
           "#EF553B",
           "#00cc96",
           "#ab63fa",
           "#FFA15A",
           "#19d3f3",
           "#FF6692",
           "#B6E880",
           "#FF97FF",
           "#FECB52"
          ],
          "font": {
           "color": "#2a3f5f"
          },
          "geo": {
           "bgcolor": "white",
           "lakecolor": "white",
           "landcolor": "#E5ECF6",
           "showlakes": true,
           "showland": true,
           "subunitcolor": "white"
          },
          "hoverlabel": {
           "align": "left"
          },
          "hovermode": "closest",
          "mapbox": {
           "style": "light"
          },
          "paper_bgcolor": "white",
          "plot_bgcolor": "#E5ECF6",
          "polar": {
           "angularaxis": {
            "gridcolor": "white",
            "linecolor": "white",
            "ticks": ""
           },
           "bgcolor": "#E5ECF6",
           "radialaxis": {
            "gridcolor": "white",
            "linecolor": "white",
            "ticks": ""
           }
          },
          "scene": {
           "xaxis": {
            "backgroundcolor": "#E5ECF6",
            "gridcolor": "white",
            "gridwidth": 2,
            "linecolor": "white",
            "showbackground": true,
            "ticks": "",
            "zerolinecolor": "white"
           },
           "yaxis": {
            "backgroundcolor": "#E5ECF6",
            "gridcolor": "white",
            "gridwidth": 2,
            "linecolor": "white",
            "showbackground": true,
            "ticks": "",
            "zerolinecolor": "white"
           },
           "zaxis": {
            "backgroundcolor": "#E5ECF6",
            "gridcolor": "white",
            "gridwidth": 2,
            "linecolor": "white",
            "showbackground": true,
            "ticks": "",
            "zerolinecolor": "white"
           }
          },
          "shapedefaults": {
           "line": {
            "color": "#2a3f5f"
           }
          },
          "ternary": {
           "aaxis": {
            "gridcolor": "white",
            "linecolor": "white",
            "ticks": ""
           },
           "baxis": {
            "gridcolor": "white",
            "linecolor": "white",
            "ticks": ""
           },
           "bgcolor": "#E5ECF6",
           "caxis": {
            "gridcolor": "white",
            "linecolor": "white",
            "ticks": ""
           }
          },
          "title": {
           "x": 0.05
          },
          "xaxis": {
           "automargin": true,
           "gridcolor": "white",
           "linecolor": "white",
           "ticks": "",
           "title": {
            "standoff": 15
           },
           "zerolinecolor": "white",
           "zerolinewidth": 2
          },
          "yaxis": {
           "automargin": true,
           "gridcolor": "white",
           "linecolor": "white",
           "ticks": "",
           "title": {
            "standoff": 15
           },
           "zerolinecolor": "white",
           "zerolinewidth": 2
          }
         }
        },
        "title": {
         "text": "Relationship betwee Liksa & Impression"
        },
        "xaxis": {
         "anchor": "y",
         "domain": [
          0,
          1
         ],
         "title": {
          "text": "Impressions"
         }
        },
        "yaxis": {
         "anchor": "x",
         "domain": [
          0,
          1
         ],
         "title": {
          "text": "Likes"
         }
        }
       }
      },
      "text/html": [
       "<div>                            <div id=\"86dcce5b-1913-4f7c-829b-9b66fca54b6c\" class=\"plotly-graph-div\" style=\"height:525px; width:100%;\"></div>            <script type=\"text/javascript\">                require([\"plotly\"], function(Plotly) {                    window.PLOTLYENV=window.PLOTLYENV || {};                                    if (document.getElementById(\"86dcce5b-1913-4f7c-829b-9b66fca54b6c\")) {                    Plotly.newPlot(                        \"86dcce5b-1913-4f7c-829b-9b66fca54b6c\",                        [{\"hovertemplate\":\"Impressions=%{x}<br>Likes=%{marker.size}<extra></extra>\",\"legendgroup\":\"\",\"marker\":{\"color\":\"#636efa\",\"size\":[162,224,131,213,123,144,76,124,159,191,81,151,162,142,294,159,205,121,151,72,76,91,195,129,160,175,147,114,151,92,214,150,122,152,196,86,85,156,72,82,416,180,150,127,167,225,137,114,263,328,126,236,99,212,297,142,186,112,149,132,115,248,178,107,269,96,134,301,187,94,114,96,138,122,257,95,244,190,118,178,170,250,159,205,121,151,72,137,114,263,328,126,129,160,175,147,114,151,92,275,192,203,145,168,194,250,171,416,249,308,163,86,210,172,373,148,92,549,443],\"sizemode\":\"area\",\"sizeref\":1.3725,\"symbol\":\"circle\"},\"mode\":\"markers\",\"name\":\"\",\"orientation\":\"v\",\"showlegend\":false,\"x\":[3920,5394,4021,4528,2518,3884,2621,3541,3749,4115,2218,3234,4344,3216,9453,5055,4002,3169,6168,2407,2064,3973,7281,3052,4628,4082,5394,2766,3924,3015,6666,3854,4355,4343,6108,2523,2327,3990,2191,1941,16062,4998,4289,3880,3786,4298,3630,2826,7407,10386,2998,7018,2941,6432,10667,3988,4978,3388,4467,3246,5072,6339,4239,3454,7571,3333,3818,10933,5058,3601,3480,3525,3606,5542,6559,3623,10493,4446,2957,5538,4681,5273,5055,4002,3169,6168,2407,3630,2826,7407,10386,2998,3052,4628,4082,5394,2766,3924,3015,5409,5323,8001,4150,4609,6348,11068,7231,17396,6814,17713,5563,4842,11149,10206,13700,5731,4139,32695,36919],\"xaxis\":\"x\",\"y\":[162,224,131,213,123,144,76,124,159,191,81,151,162,142,294,159,205,121,151,72,76,91,195,129,160,175,147,114,151,92,214,150,122,152,196,86,85,156,72,82,416,180,150,127,167,225,137,114,263,328,126,236,99,212,297,142,186,112,149,132,115,248,178,107,269,96,134,301,187,94,114,96,138,122,257,95,244,190,118,178,170,250,159,205,121,151,72,137,114,263,328,126,129,160,175,147,114,151,92,275,192,203,145,168,194,250,171,416,249,308,163,86,210,172,373,148,92,549,443],\"yaxis\":\"y\",\"type\":\"scatter\"},{\"hovertemplate\":\"<b>OLS trendline</b><br>Likes = 0.0144533 * Impressions + 91.3401<br>R<sup>2</sup>=0.722220<br><br>Impressions=%{x}<br>Likes=%{y} <b>(trend)</b><extra></extra>\",\"legendgroup\":\"\",\"marker\":{\"color\":\"#636efa\",\"symbol\":\"circle\"},\"mode\":\"lines\",\"name\":\"\",\"showlegend\":false,\"x\":[1941,2064,2191,2218,2327,2407,2407,2518,2523,2621,2766,2766,2826,2826,2941,2957,2998,2998,3015,3015,3052,3052,3169,3169,3216,3234,3246,3333,3388,3454,3480,3525,3541,3601,3606,3623,3630,3630,3749,3786,3818,3854,3880,3884,3920,3924,3924,3973,3988,3990,4002,4002,4021,4082,4082,4115,4139,4150,4239,4289,4298,4343,4344,4355,4446,4467,4528,4609,4628,4628,4681,4842,4978,4998,5055,5055,5058,5072,5273,5323,5394,5394,5394,5409,5538,5542,5563,5731,6108,6168,6168,6339,6348,6432,6559,6666,6814,7018,7231,7281,7407,7407,7571,8001,9453,10206,10386,10386,10493,10667,10933,11068,11149,13700,16062,17396,17713,32695,36919],\"xaxis\":\"x\",\"y\":[119.393918281271,121.1716724776395,123.00723981860537,123.3974785446375,124.97288673491528,126.12914962686229,126.12914962686229,127.73346438943875,127.80573082018545,129.2221528628205,131.31787935447448,131.31787935447448,132.18507652343473,132.18507652343473,133.84720443060854,134.07845700899793,134.67104174112077,134.67104174112077,134.9167476056595,134.9167476056595,135.451519193185,135.451519193185,137.1425536726575,137.1425536726575,137.82185812167637,138.08201727236445,138.2554567061565,139.51289260114885,140.30782333936241,141.26174022521872,141.63752566510146,142.28792354182167,142.51917612021106,143.38637328917133,143.458639719918,143.70434558445675,143.80551858750212,143.80551858750212,145.52545963927327,146.06023122679878,146.52273638357758,147.04305468495372,147.4188401248365,147.47665326943385,147.99697157081,148.05478471540735,148.05478471540735,148.7629957367249,148.97979502896496,149.00870160126362,149.18214103505568,149.18214103505568,149.45675347189308,150.33840392700267,150.33840392700267,150.81536236993082,151.16224123751493,151.32122738515764,152.60756985244868,153.33023415991556,153.4603137352596,154.11071161197978,154.12516489812913,154.28415104577184,155.59940008536154,155.90291909449763,156.78456954960723,157.95528572770357,158.229898164541,158.229898164541,158.99592233045587,161.32290140049923,163.2885483168091,163.5776140397959,164.40145135030812,164.40145135030812,164.44481120875614,164.64715721484686,167.55226773086372,168.27493203833058,169.30111535493353,169.30111535493353,169.30111535493353,169.5179146471736,171.38238856043816,171.44020170503552,171.7437207141716,174.1718727872603,179.62076166556056,180.4879588345208,180.4879588345208,182.95947076605754,183.08955034140155,184.30362637794593,186.13919371891177,187.6856953368909,189.82478168699288,192.77325206145773,195.8518020112666,196.5744663187335,198.39558037355005,198.39558037355005,200.7659193020414,206.98083234625653,227.96700383509466,238.85032830554584,241.45191981242658,241.45191981242658,242.9984214304057,245.51329322039044,249.35786733611423,251.30906096627479,252.47977714437113,289.3501101113312,323.4887719960665,342.7694557192828,347.3511474286228,563.890280517998,624.9409612127997],\"yaxis\":\"y\",\"type\":\"scatter\"}],                        {\"template\":{\"data\":{\"histogram2dcontour\":[{\"type\":\"histogram2dcontour\",\"colorbar\":{\"outlinewidth\":0,\"ticks\":\"\"},\"colorscale\":[[0.0,\"#0d0887\"],[0.1111111111111111,\"#46039f\"],[0.2222222222222222,\"#7201a8\"],[0.3333333333333333,\"#9c179e\"],[0.4444444444444444,\"#bd3786\"],[0.5555555555555556,\"#d8576b\"],[0.6666666666666666,\"#ed7953\"],[0.7777777777777778,\"#fb9f3a\"],[0.8888888888888888,\"#fdca26\"],[1.0,\"#f0f921\"]]}],\"choropleth\":[{\"type\":\"choropleth\",\"colorbar\":{\"outlinewidth\":0,\"ticks\":\"\"}}],\"histogram2d\":[{\"type\":\"histogram2d\",\"colorbar\":{\"outlinewidth\":0,\"ticks\":\"\"},\"colorscale\":[[0.0,\"#0d0887\"],[0.1111111111111111,\"#46039f\"],[0.2222222222222222,\"#7201a8\"],[0.3333333333333333,\"#9c179e\"],[0.4444444444444444,\"#bd3786\"],[0.5555555555555556,\"#d8576b\"],[0.6666666666666666,\"#ed7953\"],[0.7777777777777778,\"#fb9f3a\"],[0.8888888888888888,\"#fdca26\"],[1.0,\"#f0f921\"]]}],\"heatmap\":[{\"type\":\"heatmap\",\"colorbar\":{\"outlinewidth\":0,\"ticks\":\"\"},\"colorscale\":[[0.0,\"#0d0887\"],[0.1111111111111111,\"#46039f\"],[0.2222222222222222,\"#7201a8\"],[0.3333333333333333,\"#9c179e\"],[0.4444444444444444,\"#bd3786\"],[0.5555555555555556,\"#d8576b\"],[0.6666666666666666,\"#ed7953\"],[0.7777777777777778,\"#fb9f3a\"],[0.8888888888888888,\"#fdca26\"],[1.0,\"#f0f921\"]]}],\"heatmapgl\":[{\"type\":\"heatmapgl\",\"colorbar\":{\"outlinewidth\":0,\"ticks\":\"\"},\"colorscale\":[[0.0,\"#0d0887\"],[0.1111111111111111,\"#46039f\"],[0.2222222222222222,\"#7201a8\"],[0.3333333333333333,\"#9c179e\"],[0.4444444444444444,\"#bd3786\"],[0.5555555555555556,\"#d8576b\"],[0.6666666666666666,\"#ed7953\"],[0.7777777777777778,\"#fb9f3a\"],[0.8888888888888888,\"#fdca26\"],[1.0,\"#f0f921\"]]}],\"contourcarpet\":[{\"type\":\"contourcarpet\",\"colorbar\":{\"outlinewidth\":0,\"ticks\":\"\"}}],\"contour\":[{\"type\":\"contour\",\"colorbar\":{\"outlinewidth\":0,\"ticks\":\"\"},\"colorscale\":[[0.0,\"#0d0887\"],[0.1111111111111111,\"#46039f\"],[0.2222222222222222,\"#7201a8\"],[0.3333333333333333,\"#9c179e\"],[0.4444444444444444,\"#bd3786\"],[0.5555555555555556,\"#d8576b\"],[0.6666666666666666,\"#ed7953\"],[0.7777777777777778,\"#fb9f3a\"],[0.8888888888888888,\"#fdca26\"],[1.0,\"#f0f921\"]]}],\"surface\":[{\"type\":\"surface\",\"colorbar\":{\"outlinewidth\":0,\"ticks\":\"\"},\"colorscale\":[[0.0,\"#0d0887\"],[0.1111111111111111,\"#46039f\"],[0.2222222222222222,\"#7201a8\"],[0.3333333333333333,\"#9c179e\"],[0.4444444444444444,\"#bd3786\"],[0.5555555555555556,\"#d8576b\"],[0.6666666666666666,\"#ed7953\"],[0.7777777777777778,\"#fb9f3a\"],[0.8888888888888888,\"#fdca26\"],[1.0,\"#f0f921\"]]}],\"mesh3d\":[{\"type\":\"mesh3d\",\"colorbar\":{\"outlinewidth\":0,\"ticks\":\"\"}}],\"scatter\":[{\"fillpattern\":{\"fillmode\":\"overlay\",\"size\":10,\"solidity\":0.2},\"type\":\"scatter\"}],\"parcoords\":[{\"type\":\"parcoords\",\"line\":{\"colorbar\":{\"outlinewidth\":0,\"ticks\":\"\"}}}],\"scatterpolargl\":[{\"type\":\"scatterpolargl\",\"marker\":{\"colorbar\":{\"outlinewidth\":0,\"ticks\":\"\"}}}],\"bar\":[{\"error_x\":{\"color\":\"#2a3f5f\"},\"error_y\":{\"color\":\"#2a3f5f\"},\"marker\":{\"line\":{\"color\":\"#E5ECF6\",\"width\":0.5},\"pattern\":{\"fillmode\":\"overlay\",\"size\":10,\"solidity\":0.2}},\"type\":\"bar\"}],\"scattergeo\":[{\"type\":\"scattergeo\",\"marker\":{\"colorbar\":{\"outlinewidth\":0,\"ticks\":\"\"}}}],\"scatterpolar\":[{\"type\":\"scatterpolar\",\"marker\":{\"colorbar\":{\"outlinewidth\":0,\"ticks\":\"\"}}}],\"histogram\":[{\"marker\":{\"pattern\":{\"fillmode\":\"overlay\",\"size\":10,\"solidity\":0.2}},\"type\":\"histogram\"}],\"scattergl\":[{\"type\":\"scattergl\",\"marker\":{\"colorbar\":{\"outlinewidth\":0,\"ticks\":\"\"}}}],\"scatter3d\":[{\"type\":\"scatter3d\",\"line\":{\"colorbar\":{\"outlinewidth\":0,\"ticks\":\"\"}},\"marker\":{\"colorbar\":{\"outlinewidth\":0,\"ticks\":\"\"}}}],\"scattermapbox\":[{\"type\":\"scattermapbox\",\"marker\":{\"colorbar\":{\"outlinewidth\":0,\"ticks\":\"\"}}}],\"scatterternary\":[{\"type\":\"scatterternary\",\"marker\":{\"colorbar\":{\"outlinewidth\":0,\"ticks\":\"\"}}}],\"scattercarpet\":[{\"type\":\"scattercarpet\",\"marker\":{\"colorbar\":{\"outlinewidth\":0,\"ticks\":\"\"}}}],\"carpet\":[{\"aaxis\":{\"endlinecolor\":\"#2a3f5f\",\"gridcolor\":\"white\",\"linecolor\":\"white\",\"minorgridcolor\":\"white\",\"startlinecolor\":\"#2a3f5f\"},\"baxis\":{\"endlinecolor\":\"#2a3f5f\",\"gridcolor\":\"white\",\"linecolor\":\"white\",\"minorgridcolor\":\"white\",\"startlinecolor\":\"#2a3f5f\"},\"type\":\"carpet\"}],\"table\":[{\"cells\":{\"fill\":{\"color\":\"#EBF0F8\"},\"line\":{\"color\":\"white\"}},\"header\":{\"fill\":{\"color\":\"#C8D4E3\"},\"line\":{\"color\":\"white\"}},\"type\":\"table\"}],\"barpolar\":[{\"marker\":{\"line\":{\"color\":\"#E5ECF6\",\"width\":0.5},\"pattern\":{\"fillmode\":\"overlay\",\"size\":10,\"solidity\":0.2}},\"type\":\"barpolar\"}],\"pie\":[{\"automargin\":true,\"type\":\"pie\"}]},\"layout\":{\"autotypenumbers\":\"strict\",\"colorway\":[\"#636efa\",\"#EF553B\",\"#00cc96\",\"#ab63fa\",\"#FFA15A\",\"#19d3f3\",\"#FF6692\",\"#B6E880\",\"#FF97FF\",\"#FECB52\"],\"font\":{\"color\":\"#2a3f5f\"},\"hovermode\":\"closest\",\"hoverlabel\":{\"align\":\"left\"},\"paper_bgcolor\":\"white\",\"plot_bgcolor\":\"#E5ECF6\",\"polar\":{\"bgcolor\":\"#E5ECF6\",\"angularaxis\":{\"gridcolor\":\"white\",\"linecolor\":\"white\",\"ticks\":\"\"},\"radialaxis\":{\"gridcolor\":\"white\",\"linecolor\":\"white\",\"ticks\":\"\"}},\"ternary\":{\"bgcolor\":\"#E5ECF6\",\"aaxis\":{\"gridcolor\":\"white\",\"linecolor\":\"white\",\"ticks\":\"\"},\"baxis\":{\"gridcolor\":\"white\",\"linecolor\":\"white\",\"ticks\":\"\"},\"caxis\":{\"gridcolor\":\"white\",\"linecolor\":\"white\",\"ticks\":\"\"}},\"coloraxis\":{\"colorbar\":{\"outlinewidth\":0,\"ticks\":\"\"}},\"colorscale\":{\"sequential\":[[0.0,\"#0d0887\"],[0.1111111111111111,\"#46039f\"],[0.2222222222222222,\"#7201a8\"],[0.3333333333333333,\"#9c179e\"],[0.4444444444444444,\"#bd3786\"],[0.5555555555555556,\"#d8576b\"],[0.6666666666666666,\"#ed7953\"],[0.7777777777777778,\"#fb9f3a\"],[0.8888888888888888,\"#fdca26\"],[1.0,\"#f0f921\"]],\"sequentialminus\":[[0.0,\"#0d0887\"],[0.1111111111111111,\"#46039f\"],[0.2222222222222222,\"#7201a8\"],[0.3333333333333333,\"#9c179e\"],[0.4444444444444444,\"#bd3786\"],[0.5555555555555556,\"#d8576b\"],[0.6666666666666666,\"#ed7953\"],[0.7777777777777778,\"#fb9f3a\"],[0.8888888888888888,\"#fdca26\"],[1.0,\"#f0f921\"]],\"diverging\":[[0,\"#8e0152\"],[0.1,\"#c51b7d\"],[0.2,\"#de77ae\"],[0.3,\"#f1b6da\"],[0.4,\"#fde0ef\"],[0.5,\"#f7f7f7\"],[0.6,\"#e6f5d0\"],[0.7,\"#b8e186\"],[0.8,\"#7fbc41\"],[0.9,\"#4d9221\"],[1,\"#276419\"]]},\"xaxis\":{\"gridcolor\":\"white\",\"linecolor\":\"white\",\"ticks\":\"\",\"title\":{\"standoff\":15},\"zerolinecolor\":\"white\",\"automargin\":true,\"zerolinewidth\":2},\"yaxis\":{\"gridcolor\":\"white\",\"linecolor\":\"white\",\"ticks\":\"\",\"title\":{\"standoff\":15},\"zerolinecolor\":\"white\",\"automargin\":true,\"zerolinewidth\":2},\"scene\":{\"xaxis\":{\"backgroundcolor\":\"#E5ECF6\",\"gridcolor\":\"white\",\"linecolor\":\"white\",\"showbackground\":true,\"ticks\":\"\",\"zerolinecolor\":\"white\",\"gridwidth\":2},\"yaxis\":{\"backgroundcolor\":\"#E5ECF6\",\"gridcolor\":\"white\",\"linecolor\":\"white\",\"showbackground\":true,\"ticks\":\"\",\"zerolinecolor\":\"white\",\"gridwidth\":2},\"zaxis\":{\"backgroundcolor\":\"#E5ECF6\",\"gridcolor\":\"white\",\"linecolor\":\"white\",\"showbackground\":true,\"ticks\":\"\",\"zerolinecolor\":\"white\",\"gridwidth\":2}},\"shapedefaults\":{\"line\":{\"color\":\"#2a3f5f\"}},\"annotationdefaults\":{\"arrowcolor\":\"#2a3f5f\",\"arrowhead\":0,\"arrowwidth\":1},\"geo\":{\"bgcolor\":\"white\",\"landcolor\":\"#E5ECF6\",\"subunitcolor\":\"white\",\"showland\":true,\"showlakes\":true,\"lakecolor\":\"white\"},\"title\":{\"x\":0.05},\"mapbox\":{\"style\":\"light\"}}},\"xaxis\":{\"anchor\":\"y\",\"domain\":[0.0,1.0],\"title\":{\"text\":\"Impressions\"}},\"yaxis\":{\"anchor\":\"x\",\"domain\":[0.0,1.0],\"title\":{\"text\":\"Likes\"}},\"legend\":{\"tracegroupgap\":0,\"itemsizing\":\"constant\"},\"title\":{\"text\":\"Relationship betwee Liksa & Impression\"}},                        {\"responsive\": true}                    ).then(function(){\n",
       "                            \n",
       "var gd = document.getElementById('86dcce5b-1913-4f7c-829b-9b66fca54b6c');\n",
       "var x = new MutationObserver(function (mutations, observer) {{\n",
       "        var display = window.getComputedStyle(gd).display;\n",
       "        if (!display || display === 'none') {{\n",
       "            console.log([gd, 'removed!']);\n",
       "            Plotly.purge(gd);\n",
       "            observer.disconnect();\n",
       "        }}\n",
       "}});\n",
       "\n",
       "// Listen for the removal of the full notebook cells\n",
       "var notebookContainer = gd.closest('#notebook-container');\n",
       "if (notebookContainer) {{\n",
       "    x.observe(notebookContainer, {childList: true});\n",
       "}}\n",
       "\n",
       "// Listen for the clearing of the current output cell\n",
       "var outputEl = gd.closest('.output');\n",
       "if (outputEl) {{\n",
       "    x.observe(outputEl, {childList: true});\n",
       "}}\n",
       "\n",
       "                        })                };                });            </script>        </div>"
      ]
     },
     "metadata": {},
     "output_type": "display_data"
    }
   ],
   "source": [
    "figur=px.scatter(df,x=\"Impressions\",y=\"Shares\",size=\"Shares\",\n",
    "                  trendline=\"ols\",title=\"Relationship between shares and Imporession \")\n",
    "figure.show()"
   ]
  },
  {
   "cell_type": "code",
   "execution_count": 21,
   "metadata": {},
   "outputs": [],
   "source": [
    "\n",
    "# fghjk"
   ]
  },
  {
   "cell_type": "code",
   "execution_count": 24,
   "metadata": {},
   "outputs": [
    {
     "data": {
      "application/vnd.plotly.v1+json": {
       "config": {
        "plotlyServerURL": "https://plot.ly"
       },
       "data": [
        {
         "hovertemplate": "Impressions=%{x}<br>Saves=%{y}<extra></extra>",
         "legendgroup": "",
         "marker": {
          "color": "#636efa",
          "symbol": "circle"
         },
         "mode": "markers",
         "name": "",
         "orientation": "v",
         "showlegend": false,
         "type": "scatter",
         "x": [
          3920,
          5394,
          4021,
          4528,
          2518,
          3884,
          2621,
          3541,
          3749,
          4115,
          2218,
          3234,
          4344,
          3216,
          9453,
          5055,
          4002,
          3169,
          6168,
          2407,
          2064,
          3973,
          7281,
          3052,
          4628,
          4082,
          5394,
          2766,
          3924,
          3015,
          6666,
          3854,
          4355,
          4343,
          6108,
          2523,
          2327,
          3990,
          2191,
          1941,
          16062,
          4998,
          4289,
          3880,
          3786,
          4298,
          3630,
          2826,
          7407,
          10386,
          2998,
          7018,
          2941,
          6432,
          10667,
          3988,
          4978,
          3388,
          4467,
          3246,
          5072,
          6339,
          4239,
          3454,
          7571,
          3333,
          3818,
          10933,
          5058,
          3601,
          3480,
          3525,
          3606,
          5542,
          6559,
          3623,
          10493,
          4446,
          2957,
          5538,
          4681,
          5273,
          5055,
          4002,
          3169,
          6168,
          2407,
          3630,
          2826,
          7407,
          10386,
          2998,
          3052,
          4628,
          4082,
          5394,
          2766,
          3924,
          3015,
          5409,
          5323,
          8001,
          4150,
          4609,
          6348,
          11068,
          7231,
          17396,
          6814,
          17713,
          5563,
          4842,
          11149,
          10206,
          13700,
          5731,
          4139,
          32695,
          36919
         ],
         "xaxis": "x",
         "y": [
          98,
          194,
          41,
          172,
          96,
          74,
          22,
          135,
          155,
          122,
          28,
          122,
          119,
          121,
          100,
          101,
          111,
          106,
          82,
          40,
          49,
          72,
          167,
          63,
          144,
          135,
          61,
          40,
          139,
          52,
          84,
          81,
          79,
          105,
          90,
          34,
          45,
          98,
          35,
          49,
          252,
          167,
          111,
          90,
          144,
          263,
          137,
          67,
          288,
          668,
          42,
          342,
          48,
          250,
          219,
          118,
          143,
          99,
          89,
          148,
          42,
          171,
          109,
          38,
          421,
          38,
          116,
          225,
          144,
          51,
          104,
          33,
          174,
          46,
          179,
          34,
          99,
          174,
          70,
          149,
          207,
          318,
          101,
          111,
          106,
          82,
          40,
          137,
          67,
          288,
          668,
          42,
          63,
          144,
          135,
          61,
          40,
          139,
          52,
          393,
          152,
          83,
          74,
          94,
          188,
          214,
          73,
          285,
          469,
          504,
          149,
          55,
          273,
          182,
          573,
          135,
          36,
          1095,
          653
         ],
         "yaxis": "y"
        },
        {
         "hovertemplate": "<b>OLS trendline</b><br>Saves = 0.0251472 * Impressions + 9.8713<br>R<sup>2</sup>=0.607202<br><br>Impressions=%{x}<br>Saves=%{y} <b>(trend)</b><extra></extra>",
         "legendgroup": "",
         "marker": {
          "color": "#636efa",
          "symbol": "circle"
         },
         "mode": "lines",
         "name": "",
         "showlegend": false,
         "type": "scatter",
         "x": [
          1941,
          2064,
          2191,
          2218,
          2327,
          2407,
          2407,
          2518,
          2523,
          2621,
          2766,
          2766,
          2826,
          2826,
          2941,
          2957,
          2998,
          2998,
          3015,
          3015,
          3052,
          3052,
          3169,
          3169,
          3216,
          3234,
          3246,
          3333,
          3388,
          3454,
          3480,
          3525,
          3541,
          3601,
          3606,
          3623,
          3630,
          3630,
          3749,
          3786,
          3818,
          3854,
          3880,
          3884,
          3920,
          3924,
          3924,
          3973,
          3988,
          3990,
          4002,
          4002,
          4021,
          4082,
          4082,
          4115,
          4139,
          4150,
          4239,
          4289,
          4298,
          4343,
          4344,
          4355,
          4446,
          4467,
          4528,
          4609,
          4628,
          4628,
          4681,
          4842,
          4978,
          4998,
          5055,
          5055,
          5058,
          5072,
          5273,
          5323,
          5394,
          5394,
          5394,
          5409,
          5538,
          5542,
          5563,
          5731,
          6108,
          6168,
          6168,
          6339,
          6348,
          6432,
          6559,
          6666,
          6814,
          7018,
          7231,
          7281,
          7407,
          7407,
          7571,
          8001,
          9453,
          10206,
          10386,
          10386,
          10493,
          10667,
          10933,
          11068,
          11149,
          13700,
          16062,
          17396,
          17713,
          32695,
          36919
         ],
         "xaxis": "x",
         "y": [
          58.68208296613897,
          61.77519311367183,
          64.96889220909193,
          65.64786760733085,
          68.38891643725836,
          70.40069539500331,
          70.40069539500331,
          73.19203869887443,
          73.31777488373348,
          75.78220410697104,
          79.42855346788376,
          79.42855346788376,
          80.93738768619248,
          80.93738768619248,
          83.82931993795084,
          84.23167572949983,
          85.26271244534412,
          85.26271244534412,
          85.69021547386491,
          85.69021547386491,
          86.62066324182196,
          86.62066324182196,
          89.56288996752394,
          89.56288996752394,
          90.74481010519911,
          91.19746037069172,
          91.49922721435345,
          93.68703683090109,
          95.07013486435075,
          96.72985250449032,
          97.38368066575744,
          98.51530632948896,
          98.91766212103796,
          100.42649633934667,
          100.55223252420573,
          100.97973555272654,
          101.15576621152921,
          101.15576621152921,
          104.14828741117482,
          105.07873517913187,
          105.88344676222985,
          106.78874729321507,
          107.44257545448218,
          107.54316440236943,
          108.44846493335466,
          108.5490538812419,
          108.5490538812419,
          109.78126849286069,
          110.15847704743786,
          110.2087715213815,
          110.51053836504323,
          110.51053836504323,
          110.98833586750766,
          112.52231732278818,
          112.52231732278818,
          113.35217614285797,
          113.95570983018145,
          114.23232943687138,
          116.47043352736264,
          117.72779537595324,
          117.95412050869955,
          119.08574617243107,
          119.11089340940289,
          119.38751301609283,
          121.6759115805277,
          122.20400355693575,
          123.73798501221627,
          125.77491120693303,
          126.25270870939745,
          126.25270870939745,
          127.58551226890349,
          131.63421742136518,
          135.0542416495316,
          135.55718638896786,
          136.99057889636111,
          136.99057889636111,
          137.06602060727656,
          137.41808192488193,
          142.4726765562161,
          143.7300384048067,
          145.51549222980535,
          145.51549222980535,
          145.51549222980535,
          145.89270078438253,
          149.13669435374626,
          149.2372833016335,
          149.76537527804155,
          153.99011108930594,
          163.47061942767903,
          164.97945364598775,
          164.97945364598775,
          169.27963116816755,
          169.50595630091388,
          171.61832420654608,
          174.81202330196618,
          177.50277765795005,
          181.2245687297782,
          186.35460507202782,
          191.71096654702376,
          192.96832839561435,
          196.13688025406265,
          196.13688025406265,
          200.2610271174398,
          211.07433901531888,
          247.58812709838972,
          266.52399653816406,
          271.05049919309016,
          271.05049919309016,
          273.74125354907403,
          278.1168727821693,
          284.8060378166713,
          288.2009148078659,
          290.2378410025826,
          354.3884425176747,
          413.78621624509435,
          447.33263036549135,
          455.30430448555575,
          832.0602087972411,
          938.2821377661744
         ],
         "yaxis": "y"
        }
       ],
       "layout": {
        "legend": {
         "tracegroupgap": 0
        },
        "template": {
         "data": {
          "bar": [
           {
            "error_x": {
             "color": "#2a3f5f"
            },
            "error_y": {
             "color": "#2a3f5f"
            },
            "marker": {
             "line": {
              "color": "#E5ECF6",
              "width": 0.5
             },
             "pattern": {
              "fillmode": "overlay",
              "size": 10,
              "solidity": 0.2
             }
            },
            "type": "bar"
           }
          ],
          "barpolar": [
           {
            "marker": {
             "line": {
              "color": "#E5ECF6",
              "width": 0.5
             },
             "pattern": {
              "fillmode": "overlay",
              "size": 10,
              "solidity": 0.2
             }
            },
            "type": "barpolar"
           }
          ],
          "carpet": [
           {
            "aaxis": {
             "endlinecolor": "#2a3f5f",
             "gridcolor": "white",
             "linecolor": "white",
             "minorgridcolor": "white",
             "startlinecolor": "#2a3f5f"
            },
            "baxis": {
             "endlinecolor": "#2a3f5f",
             "gridcolor": "white",
             "linecolor": "white",
             "minorgridcolor": "white",
             "startlinecolor": "#2a3f5f"
            },
            "type": "carpet"
           }
          ],
          "choropleth": [
           {
            "colorbar": {
             "outlinewidth": 0,
             "ticks": ""
            },
            "type": "choropleth"
           }
          ],
          "contour": [
           {
            "colorbar": {
             "outlinewidth": 0,
             "ticks": ""
            },
            "colorscale": [
             [
              0,
              "#0d0887"
             ],
             [
              0.1111111111111111,
              "#46039f"
             ],
             [
              0.2222222222222222,
              "#7201a8"
             ],
             [
              0.3333333333333333,
              "#9c179e"
             ],
             [
              0.4444444444444444,
              "#bd3786"
             ],
             [
              0.5555555555555556,
              "#d8576b"
             ],
             [
              0.6666666666666666,
              "#ed7953"
             ],
             [
              0.7777777777777778,
              "#fb9f3a"
             ],
             [
              0.8888888888888888,
              "#fdca26"
             ],
             [
              1,
              "#f0f921"
             ]
            ],
            "type": "contour"
           }
          ],
          "contourcarpet": [
           {
            "colorbar": {
             "outlinewidth": 0,
             "ticks": ""
            },
            "type": "contourcarpet"
           }
          ],
          "heatmap": [
           {
            "colorbar": {
             "outlinewidth": 0,
             "ticks": ""
            },
            "colorscale": [
             [
              0,
              "#0d0887"
             ],
             [
              0.1111111111111111,
              "#46039f"
             ],
             [
              0.2222222222222222,
              "#7201a8"
             ],
             [
              0.3333333333333333,
              "#9c179e"
             ],
             [
              0.4444444444444444,
              "#bd3786"
             ],
             [
              0.5555555555555556,
              "#d8576b"
             ],
             [
              0.6666666666666666,
              "#ed7953"
             ],
             [
              0.7777777777777778,
              "#fb9f3a"
             ],
             [
              0.8888888888888888,
              "#fdca26"
             ],
             [
              1,
              "#f0f921"
             ]
            ],
            "type": "heatmap"
           }
          ],
          "heatmapgl": [
           {
            "colorbar": {
             "outlinewidth": 0,
             "ticks": ""
            },
            "colorscale": [
             [
              0,
              "#0d0887"
             ],
             [
              0.1111111111111111,
              "#46039f"
             ],
             [
              0.2222222222222222,
              "#7201a8"
             ],
             [
              0.3333333333333333,
              "#9c179e"
             ],
             [
              0.4444444444444444,
              "#bd3786"
             ],
             [
              0.5555555555555556,
              "#d8576b"
             ],
             [
              0.6666666666666666,
              "#ed7953"
             ],
             [
              0.7777777777777778,
              "#fb9f3a"
             ],
             [
              0.8888888888888888,
              "#fdca26"
             ],
             [
              1,
              "#f0f921"
             ]
            ],
            "type": "heatmapgl"
           }
          ],
          "histogram": [
           {
            "marker": {
             "pattern": {
              "fillmode": "overlay",
              "size": 10,
              "solidity": 0.2
             }
            },
            "type": "histogram"
           }
          ],
          "histogram2d": [
           {
            "colorbar": {
             "outlinewidth": 0,
             "ticks": ""
            },
            "colorscale": [
             [
              0,
              "#0d0887"
             ],
             [
              0.1111111111111111,
              "#46039f"
             ],
             [
              0.2222222222222222,
              "#7201a8"
             ],
             [
              0.3333333333333333,
              "#9c179e"
             ],
             [
              0.4444444444444444,
              "#bd3786"
             ],
             [
              0.5555555555555556,
              "#d8576b"
             ],
             [
              0.6666666666666666,
              "#ed7953"
             ],
             [
              0.7777777777777778,
              "#fb9f3a"
             ],
             [
              0.8888888888888888,
              "#fdca26"
             ],
             [
              1,
              "#f0f921"
             ]
            ],
            "type": "histogram2d"
           }
          ],
          "histogram2dcontour": [
           {
            "colorbar": {
             "outlinewidth": 0,
             "ticks": ""
            },
            "colorscale": [
             [
              0,
              "#0d0887"
             ],
             [
              0.1111111111111111,
              "#46039f"
             ],
             [
              0.2222222222222222,
              "#7201a8"
             ],
             [
              0.3333333333333333,
              "#9c179e"
             ],
             [
              0.4444444444444444,
              "#bd3786"
             ],
             [
              0.5555555555555556,
              "#d8576b"
             ],
             [
              0.6666666666666666,
              "#ed7953"
             ],
             [
              0.7777777777777778,
              "#fb9f3a"
             ],
             [
              0.8888888888888888,
              "#fdca26"
             ],
             [
              1,
              "#f0f921"
             ]
            ],
            "type": "histogram2dcontour"
           }
          ],
          "mesh3d": [
           {
            "colorbar": {
             "outlinewidth": 0,
             "ticks": ""
            },
            "type": "mesh3d"
           }
          ],
          "parcoords": [
           {
            "line": {
             "colorbar": {
              "outlinewidth": 0,
              "ticks": ""
             }
            },
            "type": "parcoords"
           }
          ],
          "pie": [
           {
            "automargin": true,
            "type": "pie"
           }
          ],
          "scatter": [
           {
            "fillpattern": {
             "fillmode": "overlay",
             "size": 10,
             "solidity": 0.2
            },
            "type": "scatter"
           }
          ],
          "scatter3d": [
           {
            "line": {
             "colorbar": {
              "outlinewidth": 0,
              "ticks": ""
             }
            },
            "marker": {
             "colorbar": {
              "outlinewidth": 0,
              "ticks": ""
             }
            },
            "type": "scatter3d"
           }
          ],
          "scattercarpet": [
           {
            "marker": {
             "colorbar": {
              "outlinewidth": 0,
              "ticks": ""
             }
            },
            "type": "scattercarpet"
           }
          ],
          "scattergeo": [
           {
            "marker": {
             "colorbar": {
              "outlinewidth": 0,
              "ticks": ""
             }
            },
            "type": "scattergeo"
           }
          ],
          "scattergl": [
           {
            "marker": {
             "colorbar": {
              "outlinewidth": 0,
              "ticks": ""
             }
            },
            "type": "scattergl"
           }
          ],
          "scattermapbox": [
           {
            "marker": {
             "colorbar": {
              "outlinewidth": 0,
              "ticks": ""
             }
            },
            "type": "scattermapbox"
           }
          ],
          "scatterpolar": [
           {
            "marker": {
             "colorbar": {
              "outlinewidth": 0,
              "ticks": ""
             }
            },
            "type": "scatterpolar"
           }
          ],
          "scatterpolargl": [
           {
            "marker": {
             "colorbar": {
              "outlinewidth": 0,
              "ticks": ""
             }
            },
            "type": "scatterpolargl"
           }
          ],
          "scatterternary": [
           {
            "marker": {
             "colorbar": {
              "outlinewidth": 0,
              "ticks": ""
             }
            },
            "type": "scatterternary"
           }
          ],
          "surface": [
           {
            "colorbar": {
             "outlinewidth": 0,
             "ticks": ""
            },
            "colorscale": [
             [
              0,
              "#0d0887"
             ],
             [
              0.1111111111111111,
              "#46039f"
             ],
             [
              0.2222222222222222,
              "#7201a8"
             ],
             [
              0.3333333333333333,
              "#9c179e"
             ],
             [
              0.4444444444444444,
              "#bd3786"
             ],
             [
              0.5555555555555556,
              "#d8576b"
             ],
             [
              0.6666666666666666,
              "#ed7953"
             ],
             [
              0.7777777777777778,
              "#fb9f3a"
             ],
             [
              0.8888888888888888,
              "#fdca26"
             ],
             [
              1,
              "#f0f921"
             ]
            ],
            "type": "surface"
           }
          ],
          "table": [
           {
            "cells": {
             "fill": {
              "color": "#EBF0F8"
             },
             "line": {
              "color": "white"
             }
            },
            "header": {
             "fill": {
              "color": "#C8D4E3"
             },
             "line": {
              "color": "white"
             }
            },
            "type": "table"
           }
          ]
         },
         "layout": {
          "annotationdefaults": {
           "arrowcolor": "#2a3f5f",
           "arrowhead": 0,
           "arrowwidth": 1
          },
          "autotypenumbers": "strict",
          "coloraxis": {
           "colorbar": {
            "outlinewidth": 0,
            "ticks": ""
           }
          },
          "colorscale": {
           "diverging": [
            [
             0,
             "#8e0152"
            ],
            [
             0.1,
             "#c51b7d"
            ],
            [
             0.2,
             "#de77ae"
            ],
            [
             0.3,
             "#f1b6da"
            ],
            [
             0.4,
             "#fde0ef"
            ],
            [
             0.5,
             "#f7f7f7"
            ],
            [
             0.6,
             "#e6f5d0"
            ],
            [
             0.7,
             "#b8e186"
            ],
            [
             0.8,
             "#7fbc41"
            ],
            [
             0.9,
             "#4d9221"
            ],
            [
             1,
             "#276419"
            ]
           ],
           "sequential": [
            [
             0,
             "#0d0887"
            ],
            [
             0.1111111111111111,
             "#46039f"
            ],
            [
             0.2222222222222222,
             "#7201a8"
            ],
            [
             0.3333333333333333,
             "#9c179e"
            ],
            [
             0.4444444444444444,
             "#bd3786"
            ],
            [
             0.5555555555555556,
             "#d8576b"
            ],
            [
             0.6666666666666666,
             "#ed7953"
            ],
            [
             0.7777777777777778,
             "#fb9f3a"
            ],
            [
             0.8888888888888888,
             "#fdca26"
            ],
            [
             1,
             "#f0f921"
            ]
           ],
           "sequentialminus": [
            [
             0,
             "#0d0887"
            ],
            [
             0.1111111111111111,
             "#46039f"
            ],
            [
             0.2222222222222222,
             "#7201a8"
            ],
            [
             0.3333333333333333,
             "#9c179e"
            ],
            [
             0.4444444444444444,
             "#bd3786"
            ],
            [
             0.5555555555555556,
             "#d8576b"
            ],
            [
             0.6666666666666666,
             "#ed7953"
            ],
            [
             0.7777777777777778,
             "#fb9f3a"
            ],
            [
             0.8888888888888888,
             "#fdca26"
            ],
            [
             1,
             "#f0f921"
            ]
           ]
          },
          "colorway": [
           "#636efa",
           "#EF553B",
           "#00cc96",
           "#ab63fa",
           "#FFA15A",
           "#19d3f3",
           "#FF6692",
           "#B6E880",
           "#FF97FF",
           "#FECB52"
          ],
          "font": {
           "color": "#2a3f5f"
          },
          "geo": {
           "bgcolor": "white",
           "lakecolor": "white",
           "landcolor": "#E5ECF6",
           "showlakes": true,
           "showland": true,
           "subunitcolor": "white"
          },
          "hoverlabel": {
           "align": "left"
          },
          "hovermode": "closest",
          "mapbox": {
           "style": "light"
          },
          "paper_bgcolor": "white",
          "plot_bgcolor": "#E5ECF6",
          "polar": {
           "angularaxis": {
            "gridcolor": "white",
            "linecolor": "white",
            "ticks": ""
           },
           "bgcolor": "#E5ECF6",
           "radialaxis": {
            "gridcolor": "white",
            "linecolor": "white",
            "ticks": ""
           }
          },
          "scene": {
           "xaxis": {
            "backgroundcolor": "#E5ECF6",
            "gridcolor": "white",
            "gridwidth": 2,
            "linecolor": "white",
            "showbackground": true,
            "ticks": "",
            "zerolinecolor": "white"
           },
           "yaxis": {
            "backgroundcolor": "#E5ECF6",
            "gridcolor": "white",
            "gridwidth": 2,
            "linecolor": "white",
            "showbackground": true,
            "ticks": "",
            "zerolinecolor": "white"
           },
           "zaxis": {
            "backgroundcolor": "#E5ECF6",
            "gridcolor": "white",
            "gridwidth": 2,
            "linecolor": "white",
            "showbackground": true,
            "ticks": "",
            "zerolinecolor": "white"
           }
          },
          "shapedefaults": {
           "line": {
            "color": "#2a3f5f"
           }
          },
          "ternary": {
           "aaxis": {
            "gridcolor": "white",
            "linecolor": "white",
            "ticks": ""
           },
           "baxis": {
            "gridcolor": "white",
            "linecolor": "white",
            "ticks": ""
           },
           "bgcolor": "#E5ECF6",
           "caxis": {
            "gridcolor": "white",
            "linecolor": "white",
            "ticks": ""
           }
          },
          "title": {
           "x": 0.05
          },
          "xaxis": {
           "automargin": true,
           "gridcolor": "white",
           "linecolor": "white",
           "ticks": "",
           "title": {
            "standoff": 15
           },
           "zerolinecolor": "white",
           "zerolinewidth": 2
          },
          "yaxis": {
           "automargin": true,
           "gridcolor": "white",
           "linecolor": "white",
           "ticks": "",
           "title": {
            "standoff": 15
           },
           "zerolinecolor": "white",
           "zerolinewidth": 2
          }
         }
        },
        "title": {
         "text": "Relationship between saves and Implressions"
        },
        "xaxis": {
         "anchor": "y",
         "domain": [
          0,
          1
         ],
         "title": {
          "text": "Impressions"
         }
        },
        "yaxis": {
         "anchor": "x",
         "domain": [
          0,
          1
         ],
         "title": {
          "text": "Saves"
         }
        }
       }
      },
      "text/html": [
       "<div>                            <div id=\"3208cbaa-e97c-4f64-95fe-8b0483c80e4c\" class=\"plotly-graph-div\" style=\"height:525px; width:100%;\"></div>            <script type=\"text/javascript\">                require([\"plotly\"], function(Plotly) {                    window.PLOTLYENV=window.PLOTLYENV || {};                                    if (document.getElementById(\"3208cbaa-e97c-4f64-95fe-8b0483c80e4c\")) {                    Plotly.newPlot(                        \"3208cbaa-e97c-4f64-95fe-8b0483c80e4c\",                        [{\"hovertemplate\":\"Impressions=%{x}<br>Saves=%{y}<extra></extra>\",\"legendgroup\":\"\",\"marker\":{\"color\":\"#636efa\",\"symbol\":\"circle\"},\"mode\":\"markers\",\"name\":\"\",\"orientation\":\"v\",\"showlegend\":false,\"x\":[3920,5394,4021,4528,2518,3884,2621,3541,3749,4115,2218,3234,4344,3216,9453,5055,4002,3169,6168,2407,2064,3973,7281,3052,4628,4082,5394,2766,3924,3015,6666,3854,4355,4343,6108,2523,2327,3990,2191,1941,16062,4998,4289,3880,3786,4298,3630,2826,7407,10386,2998,7018,2941,6432,10667,3988,4978,3388,4467,3246,5072,6339,4239,3454,7571,3333,3818,10933,5058,3601,3480,3525,3606,5542,6559,3623,10493,4446,2957,5538,4681,5273,5055,4002,3169,6168,2407,3630,2826,7407,10386,2998,3052,4628,4082,5394,2766,3924,3015,5409,5323,8001,4150,4609,6348,11068,7231,17396,6814,17713,5563,4842,11149,10206,13700,5731,4139,32695,36919],\"xaxis\":\"x\",\"y\":[98,194,41,172,96,74,22,135,155,122,28,122,119,121,100,101,111,106,82,40,49,72,167,63,144,135,61,40,139,52,84,81,79,105,90,34,45,98,35,49,252,167,111,90,144,263,137,67,288,668,42,342,48,250,219,118,143,99,89,148,42,171,109,38,421,38,116,225,144,51,104,33,174,46,179,34,99,174,70,149,207,318,101,111,106,82,40,137,67,288,668,42,63,144,135,61,40,139,52,393,152,83,74,94,188,214,73,285,469,504,149,55,273,182,573,135,36,1095,653],\"yaxis\":\"y\",\"type\":\"scatter\"},{\"hovertemplate\":\"<b>OLS trendline</b><br>Saves = 0.0251472 * Impressions + 9.8713<br>R<sup>2</sup>=0.607202<br><br>Impressions=%{x}<br>Saves=%{y} <b>(trend)</b><extra></extra>\",\"legendgroup\":\"\",\"marker\":{\"color\":\"#636efa\",\"symbol\":\"circle\"},\"mode\":\"lines\",\"name\":\"\",\"showlegend\":false,\"x\":[1941,2064,2191,2218,2327,2407,2407,2518,2523,2621,2766,2766,2826,2826,2941,2957,2998,2998,3015,3015,3052,3052,3169,3169,3216,3234,3246,3333,3388,3454,3480,3525,3541,3601,3606,3623,3630,3630,3749,3786,3818,3854,3880,3884,3920,3924,3924,3973,3988,3990,4002,4002,4021,4082,4082,4115,4139,4150,4239,4289,4298,4343,4344,4355,4446,4467,4528,4609,4628,4628,4681,4842,4978,4998,5055,5055,5058,5072,5273,5323,5394,5394,5394,5409,5538,5542,5563,5731,6108,6168,6168,6339,6348,6432,6559,6666,6814,7018,7231,7281,7407,7407,7571,8001,9453,10206,10386,10386,10493,10667,10933,11068,11149,13700,16062,17396,17713,32695,36919],\"xaxis\":\"x\",\"y\":[58.68208296613897,61.77519311367183,64.96889220909193,65.64786760733085,68.38891643725836,70.40069539500331,70.40069539500331,73.19203869887443,73.31777488373348,75.78220410697104,79.42855346788376,79.42855346788376,80.93738768619248,80.93738768619248,83.82931993795084,84.23167572949983,85.26271244534412,85.26271244534412,85.69021547386491,85.69021547386491,86.62066324182196,86.62066324182196,89.56288996752394,89.56288996752394,90.74481010519911,91.19746037069172,91.49922721435345,93.68703683090109,95.07013486435075,96.72985250449032,97.38368066575744,98.51530632948896,98.91766212103796,100.42649633934667,100.55223252420573,100.97973555272654,101.15576621152921,101.15576621152921,104.14828741117482,105.07873517913187,105.88344676222985,106.78874729321507,107.44257545448218,107.54316440236943,108.44846493335466,108.5490538812419,108.5490538812419,109.78126849286069,110.15847704743786,110.2087715213815,110.51053836504323,110.51053836504323,110.98833586750766,112.52231732278818,112.52231732278818,113.35217614285797,113.95570983018145,114.23232943687138,116.47043352736264,117.72779537595324,117.95412050869955,119.08574617243107,119.11089340940289,119.38751301609283,121.6759115805277,122.20400355693575,123.73798501221627,125.77491120693303,126.25270870939745,126.25270870939745,127.58551226890349,131.63421742136518,135.0542416495316,135.55718638896786,136.99057889636111,136.99057889636111,137.06602060727656,137.41808192488193,142.4726765562161,143.7300384048067,145.51549222980535,145.51549222980535,145.51549222980535,145.89270078438253,149.13669435374626,149.2372833016335,149.76537527804155,153.99011108930594,163.47061942767903,164.97945364598775,164.97945364598775,169.27963116816755,169.50595630091388,171.61832420654608,174.81202330196618,177.50277765795005,181.2245687297782,186.35460507202782,191.71096654702376,192.96832839561435,196.13688025406265,196.13688025406265,200.2610271174398,211.07433901531888,247.58812709838972,266.52399653816406,271.05049919309016,271.05049919309016,273.74125354907403,278.1168727821693,284.8060378166713,288.2009148078659,290.2378410025826,354.3884425176747,413.78621624509435,447.33263036549135,455.30430448555575,832.0602087972411,938.2821377661744],\"yaxis\":\"y\",\"type\":\"scatter\"}],                        {\"template\":{\"data\":{\"histogram2dcontour\":[{\"type\":\"histogram2dcontour\",\"colorbar\":{\"outlinewidth\":0,\"ticks\":\"\"},\"colorscale\":[[0.0,\"#0d0887\"],[0.1111111111111111,\"#46039f\"],[0.2222222222222222,\"#7201a8\"],[0.3333333333333333,\"#9c179e\"],[0.4444444444444444,\"#bd3786\"],[0.5555555555555556,\"#d8576b\"],[0.6666666666666666,\"#ed7953\"],[0.7777777777777778,\"#fb9f3a\"],[0.8888888888888888,\"#fdca26\"],[1.0,\"#f0f921\"]]}],\"choropleth\":[{\"type\":\"choropleth\",\"colorbar\":{\"outlinewidth\":0,\"ticks\":\"\"}}],\"histogram2d\":[{\"type\":\"histogram2d\",\"colorbar\":{\"outlinewidth\":0,\"ticks\":\"\"},\"colorscale\":[[0.0,\"#0d0887\"],[0.1111111111111111,\"#46039f\"],[0.2222222222222222,\"#7201a8\"],[0.3333333333333333,\"#9c179e\"],[0.4444444444444444,\"#bd3786\"],[0.5555555555555556,\"#d8576b\"],[0.6666666666666666,\"#ed7953\"],[0.7777777777777778,\"#fb9f3a\"],[0.8888888888888888,\"#fdca26\"],[1.0,\"#f0f921\"]]}],\"heatmap\":[{\"type\":\"heatmap\",\"colorbar\":{\"outlinewidth\":0,\"ticks\":\"\"},\"colorscale\":[[0.0,\"#0d0887\"],[0.1111111111111111,\"#46039f\"],[0.2222222222222222,\"#7201a8\"],[0.3333333333333333,\"#9c179e\"],[0.4444444444444444,\"#bd3786\"],[0.5555555555555556,\"#d8576b\"],[0.6666666666666666,\"#ed7953\"],[0.7777777777777778,\"#fb9f3a\"],[0.8888888888888888,\"#fdca26\"],[1.0,\"#f0f921\"]]}],\"heatmapgl\":[{\"type\":\"heatmapgl\",\"colorbar\":{\"outlinewidth\":0,\"ticks\":\"\"},\"colorscale\":[[0.0,\"#0d0887\"],[0.1111111111111111,\"#46039f\"],[0.2222222222222222,\"#7201a8\"],[0.3333333333333333,\"#9c179e\"],[0.4444444444444444,\"#bd3786\"],[0.5555555555555556,\"#d8576b\"],[0.6666666666666666,\"#ed7953\"],[0.7777777777777778,\"#fb9f3a\"],[0.8888888888888888,\"#fdca26\"],[1.0,\"#f0f921\"]]}],\"contourcarpet\":[{\"type\":\"contourcarpet\",\"colorbar\":{\"outlinewidth\":0,\"ticks\":\"\"}}],\"contour\":[{\"type\":\"contour\",\"colorbar\":{\"outlinewidth\":0,\"ticks\":\"\"},\"colorscale\":[[0.0,\"#0d0887\"],[0.1111111111111111,\"#46039f\"],[0.2222222222222222,\"#7201a8\"],[0.3333333333333333,\"#9c179e\"],[0.4444444444444444,\"#bd3786\"],[0.5555555555555556,\"#d8576b\"],[0.6666666666666666,\"#ed7953\"],[0.7777777777777778,\"#fb9f3a\"],[0.8888888888888888,\"#fdca26\"],[1.0,\"#f0f921\"]]}],\"surface\":[{\"type\":\"surface\",\"colorbar\":{\"outlinewidth\":0,\"ticks\":\"\"},\"colorscale\":[[0.0,\"#0d0887\"],[0.1111111111111111,\"#46039f\"],[0.2222222222222222,\"#7201a8\"],[0.3333333333333333,\"#9c179e\"],[0.4444444444444444,\"#bd3786\"],[0.5555555555555556,\"#d8576b\"],[0.6666666666666666,\"#ed7953\"],[0.7777777777777778,\"#fb9f3a\"],[0.8888888888888888,\"#fdca26\"],[1.0,\"#f0f921\"]]}],\"mesh3d\":[{\"type\":\"mesh3d\",\"colorbar\":{\"outlinewidth\":0,\"ticks\":\"\"}}],\"scatter\":[{\"fillpattern\":{\"fillmode\":\"overlay\",\"size\":10,\"solidity\":0.2},\"type\":\"scatter\"}],\"parcoords\":[{\"type\":\"parcoords\",\"line\":{\"colorbar\":{\"outlinewidth\":0,\"ticks\":\"\"}}}],\"scatterpolargl\":[{\"type\":\"scatterpolargl\",\"marker\":{\"colorbar\":{\"outlinewidth\":0,\"ticks\":\"\"}}}],\"bar\":[{\"error_x\":{\"color\":\"#2a3f5f\"},\"error_y\":{\"color\":\"#2a3f5f\"},\"marker\":{\"line\":{\"color\":\"#E5ECF6\",\"width\":0.5},\"pattern\":{\"fillmode\":\"overlay\",\"size\":10,\"solidity\":0.2}},\"type\":\"bar\"}],\"scattergeo\":[{\"type\":\"scattergeo\",\"marker\":{\"colorbar\":{\"outlinewidth\":0,\"ticks\":\"\"}}}],\"scatterpolar\":[{\"type\":\"scatterpolar\",\"marker\":{\"colorbar\":{\"outlinewidth\":0,\"ticks\":\"\"}}}],\"histogram\":[{\"marker\":{\"pattern\":{\"fillmode\":\"overlay\",\"size\":10,\"solidity\":0.2}},\"type\":\"histogram\"}],\"scattergl\":[{\"type\":\"scattergl\",\"marker\":{\"colorbar\":{\"outlinewidth\":0,\"ticks\":\"\"}}}],\"scatter3d\":[{\"type\":\"scatter3d\",\"line\":{\"colorbar\":{\"outlinewidth\":0,\"ticks\":\"\"}},\"marker\":{\"colorbar\":{\"outlinewidth\":0,\"ticks\":\"\"}}}],\"scattermapbox\":[{\"type\":\"scattermapbox\",\"marker\":{\"colorbar\":{\"outlinewidth\":0,\"ticks\":\"\"}}}],\"scatterternary\":[{\"type\":\"scatterternary\",\"marker\":{\"colorbar\":{\"outlinewidth\":0,\"ticks\":\"\"}}}],\"scattercarpet\":[{\"type\":\"scattercarpet\",\"marker\":{\"colorbar\":{\"outlinewidth\":0,\"ticks\":\"\"}}}],\"carpet\":[{\"aaxis\":{\"endlinecolor\":\"#2a3f5f\",\"gridcolor\":\"white\",\"linecolor\":\"white\",\"minorgridcolor\":\"white\",\"startlinecolor\":\"#2a3f5f\"},\"baxis\":{\"endlinecolor\":\"#2a3f5f\",\"gridcolor\":\"white\",\"linecolor\":\"white\",\"minorgridcolor\":\"white\",\"startlinecolor\":\"#2a3f5f\"},\"type\":\"carpet\"}],\"table\":[{\"cells\":{\"fill\":{\"color\":\"#EBF0F8\"},\"line\":{\"color\":\"white\"}},\"header\":{\"fill\":{\"color\":\"#C8D4E3\"},\"line\":{\"color\":\"white\"}},\"type\":\"table\"}],\"barpolar\":[{\"marker\":{\"line\":{\"color\":\"#E5ECF6\",\"width\":0.5},\"pattern\":{\"fillmode\":\"overlay\",\"size\":10,\"solidity\":0.2}},\"type\":\"barpolar\"}],\"pie\":[{\"automargin\":true,\"type\":\"pie\"}]},\"layout\":{\"autotypenumbers\":\"strict\",\"colorway\":[\"#636efa\",\"#EF553B\",\"#00cc96\",\"#ab63fa\",\"#FFA15A\",\"#19d3f3\",\"#FF6692\",\"#B6E880\",\"#FF97FF\",\"#FECB52\"],\"font\":{\"color\":\"#2a3f5f\"},\"hovermode\":\"closest\",\"hoverlabel\":{\"align\":\"left\"},\"paper_bgcolor\":\"white\",\"plot_bgcolor\":\"#E5ECF6\",\"polar\":{\"bgcolor\":\"#E5ECF6\",\"angularaxis\":{\"gridcolor\":\"white\",\"linecolor\":\"white\",\"ticks\":\"\"},\"radialaxis\":{\"gridcolor\":\"white\",\"linecolor\":\"white\",\"ticks\":\"\"}},\"ternary\":{\"bgcolor\":\"#E5ECF6\",\"aaxis\":{\"gridcolor\":\"white\",\"linecolor\":\"white\",\"ticks\":\"\"},\"baxis\":{\"gridcolor\":\"white\",\"linecolor\":\"white\",\"ticks\":\"\"},\"caxis\":{\"gridcolor\":\"white\",\"linecolor\":\"white\",\"ticks\":\"\"}},\"coloraxis\":{\"colorbar\":{\"outlinewidth\":0,\"ticks\":\"\"}},\"colorscale\":{\"sequential\":[[0.0,\"#0d0887\"],[0.1111111111111111,\"#46039f\"],[0.2222222222222222,\"#7201a8\"],[0.3333333333333333,\"#9c179e\"],[0.4444444444444444,\"#bd3786\"],[0.5555555555555556,\"#d8576b\"],[0.6666666666666666,\"#ed7953\"],[0.7777777777777778,\"#fb9f3a\"],[0.8888888888888888,\"#fdca26\"],[1.0,\"#f0f921\"]],\"sequentialminus\":[[0.0,\"#0d0887\"],[0.1111111111111111,\"#46039f\"],[0.2222222222222222,\"#7201a8\"],[0.3333333333333333,\"#9c179e\"],[0.4444444444444444,\"#bd3786\"],[0.5555555555555556,\"#d8576b\"],[0.6666666666666666,\"#ed7953\"],[0.7777777777777778,\"#fb9f3a\"],[0.8888888888888888,\"#fdca26\"],[1.0,\"#f0f921\"]],\"diverging\":[[0,\"#8e0152\"],[0.1,\"#c51b7d\"],[0.2,\"#de77ae\"],[0.3,\"#f1b6da\"],[0.4,\"#fde0ef\"],[0.5,\"#f7f7f7\"],[0.6,\"#e6f5d0\"],[0.7,\"#b8e186\"],[0.8,\"#7fbc41\"],[0.9,\"#4d9221\"],[1,\"#276419\"]]},\"xaxis\":{\"gridcolor\":\"white\",\"linecolor\":\"white\",\"ticks\":\"\",\"title\":{\"standoff\":15},\"zerolinecolor\":\"white\",\"automargin\":true,\"zerolinewidth\":2},\"yaxis\":{\"gridcolor\":\"white\",\"linecolor\":\"white\",\"ticks\":\"\",\"title\":{\"standoff\":15},\"zerolinecolor\":\"white\",\"automargin\":true,\"zerolinewidth\":2},\"scene\":{\"xaxis\":{\"backgroundcolor\":\"#E5ECF6\",\"gridcolor\":\"white\",\"linecolor\":\"white\",\"showbackground\":true,\"ticks\":\"\",\"zerolinecolor\":\"white\",\"gridwidth\":2},\"yaxis\":{\"backgroundcolor\":\"#E5ECF6\",\"gridcolor\":\"white\",\"linecolor\":\"white\",\"showbackground\":true,\"ticks\":\"\",\"zerolinecolor\":\"white\",\"gridwidth\":2},\"zaxis\":{\"backgroundcolor\":\"#E5ECF6\",\"gridcolor\":\"white\",\"linecolor\":\"white\",\"showbackground\":true,\"ticks\":\"\",\"zerolinecolor\":\"white\",\"gridwidth\":2}},\"shapedefaults\":{\"line\":{\"color\":\"#2a3f5f\"}},\"annotationdefaults\":{\"arrowcolor\":\"#2a3f5f\",\"arrowhead\":0,\"arrowwidth\":1},\"geo\":{\"bgcolor\":\"white\",\"landcolor\":\"#E5ECF6\",\"subunitcolor\":\"white\",\"showland\":true,\"showlakes\":true,\"lakecolor\":\"white\"},\"title\":{\"x\":0.05},\"mapbox\":{\"style\":\"light\"}}},\"xaxis\":{\"anchor\":\"y\",\"domain\":[0.0,1.0],\"title\":{\"text\":\"Impressions\"}},\"yaxis\":{\"anchor\":\"x\",\"domain\":[0.0,1.0],\"title\":{\"text\":\"Saves\"}},\"legend\":{\"tracegroupgap\":0},\"title\":{\"text\":\"Relationship between saves and Implressions\"}},                        {\"responsive\": true}                    ).then(function(){\n",
       "                            \n",
       "var gd = document.getElementById('3208cbaa-e97c-4f64-95fe-8b0483c80e4c');\n",
       "var x = new MutationObserver(function (mutations, observer) {{\n",
       "        var display = window.getComputedStyle(gd).display;\n",
       "        if (!display || display === 'none') {{\n",
       "            console.log([gd, 'removed!']);\n",
       "            Plotly.purge(gd);\n",
       "            observer.disconnect();\n",
       "        }}\n",
       "}});\n",
       "\n",
       "// Listen for the removal of the full notebook cells\n",
       "var notebookContainer = gd.closest('#notebook-container');\n",
       "if (notebookContainer) {{\n",
       "    x.observe(notebookContainer, {childList: true});\n",
       "}}\n",
       "\n",
       "// Listen for the clearing of the current output cell\n",
       "var outputEl = gd.closest('.output');\n",
       "if (outputEl) {{\n",
       "    x.observe(outputEl, {childList: true});\n",
       "}}\n",
       "\n",
       "                        })                };                });            </script>        </div>"
      ]
     },
     "metadata": {},
     "output_type": "display_data"
    }
   ],
   "source": [
    "figure=px.scatter(df,x=\"Impressions\",y=\"Saves\",trendline=\"ols\",\n",
    "                 title=\"Relationship between saves and Implressions\")\n",
    "figure.show()"
   ]
  },
  {
   "cell_type": "markdown",
   "metadata": {},
   "source": [
    "# Correletaion"
   ]
  },
  {
   "cell_type": "code",
   "execution_count": 34,
   "metadata": {},
   "outputs": [
    {
     "data": {
      "text/plain": [
       "Impressions       1.000000\n",
       "From Explore      0.893607\n",
       "Follows           0.889363\n",
       "Likes             0.849835\n",
       "From Home         0.844698\n",
       "Saves             0.779231\n",
       "Profile Visits    0.760981\n",
       "Shares            0.634675\n",
       "From Other        0.592960\n",
       "From Hashtags     0.560760\n",
       "Comments         -0.028524\n",
       "Name: Impressions, dtype: float64"
      ]
     },
     "execution_count": 34,
     "metadata": {},
     "output_type": "execute_result"
    }
   ],
   "source": [
    "correleation= df.corr()\n",
    "correleation[\"Impressions\"].sort_values(ascending=False)"
   ]
  },
  {
   "cell_type": "markdown",
   "metadata": {},
   "source": [
    "# Analyzing conversion Rate\n",
    "In Instagram, conversation rate means how many followers you are getting from the number of profile visits from a post. \n",
    " The formula that you can use to calculate conversion rate is (Follows/Profile Visits) * 100. Now let’s \n",
    " have a look at the conversation rate of my Instagram account:"
   ]
  },
  {
   "cell_type": "markdown",
   "metadata": {},
   "source": [
    "Fourmula\n",
    "# (Follows/Profile Visits) * 100"
   ]
  },
  {
   "cell_type": "code",
   "execution_count": 38,
   "metadata": {},
   "outputs": [
    {
     "data": {
      "text/plain": [
       "41.00265604249668"
      ]
     },
     "execution_count": 38,
     "metadata": {},
     "output_type": "execute_result"
    }
   ],
   "source": [
    "conversion_rate=(df[\"Follows\"].sum()/df[\"Profile Visits\"].sum())*100\n",
    "conversion_rate"
   ]
  },
  {
   "cell_type": "code",
   "execution_count": 40,
   "metadata": {},
   "outputs": [
    {
     "data": {
      "application/vnd.plotly.v1+json": {
       "config": {
        "plotlyServerURL": "https://plot.ly"
       },
       "data": [
        {
         "hovertemplate": "Follows=%{marker.size}<br>Profile Visits=%{y}<extra></extra>",
         "legendgroup": "",
         "marker": {
          "color": "#636efa",
          "size": [
           2,
           10,
           12,
           8,
           0,
           2,
           0,
           6,
           4,
           6,
           4,
           0,
           2,
           4,
           42,
           6,
           2,
           2,
           30,
           0,
           0,
           24,
           100,
           2,
           4,
           6,
           6,
           6,
           2,
           2,
           20,
           2,
           4,
           8,
           26,
           2,
           2,
           4,
           0,
           2,
           94,
           8,
           18,
           10,
           4,
           4,
           4,
           4,
           18,
           38,
           10,
           12,
           4,
           4,
           74,
           0,
           6,
           6,
           0,
           6,
           12,
           10,
           8,
           8,
           46,
           12,
           10,
           94,
           6,
           10,
           6,
           4,
           12,
           16,
           12,
           8,
           32,
           8,
           16,
           6,
           10,
           10,
           6,
           2,
           2,
           30,
           0,
           4,
           4,
           18,
           38,
           10,
           2,
           4,
           6,
           6,
           6,
           2,
           2,
           14,
           8,
           14,
           28,
           18,
           12,
           34,
           26,
           260,
           16,
           96,
           20,
           30,
           58,
           100,
           80,
           18,
           10,
           214,
           228
          ],
          "sizemode": "area",
          "sizeref": 0.65,
          "symbol": "circle"
         },
         "mode": "markers",
         "name": "",
         "orientation": "v",
         "showlegend": false,
         "type": "scatter",
         "x": [
          2,
          10,
          12,
          8,
          0,
          2,
          0,
          6,
          4,
          6,
          4,
          0,
          2,
          4,
          42,
          6,
          2,
          2,
          30,
          0,
          0,
          24,
          100,
          2,
          4,
          6,
          6,
          6,
          2,
          2,
          20,
          2,
          4,
          8,
          26,
          2,
          2,
          4,
          0,
          2,
          94,
          8,
          18,
          10,
          4,
          4,
          4,
          4,
          18,
          38,
          10,
          12,
          4,
          4,
          74,
          0,
          6,
          6,
          0,
          6,
          12,
          10,
          8,
          8,
          46,
          12,
          10,
          94,
          6,
          10,
          6,
          4,
          12,
          16,
          12,
          8,
          32,
          8,
          16,
          6,
          10,
          10,
          6,
          2,
          2,
          30,
          0,
          4,
          4,
          18,
          38,
          10,
          2,
          4,
          6,
          6,
          6,
          2,
          2,
          14,
          8,
          14,
          28,
          18,
          12,
          34,
          26,
          260,
          16,
          96,
          20,
          30,
          58,
          100,
          80,
          18,
          10,
          214,
          228
         ],
         "xaxis": "x",
         "y": [
          35,
          48,
          62,
          23,
          8,
          9,
          26,
          12,
          36,
          31,
          29,
          15,
          8,
          20,
          181,
          17,
          16,
          21,
          77,
          10,
          9,
          11,
          144,
          14,
          10,
          19,
          69,
          11,
          19,
          9,
          57,
          13,
          11,
          24,
          81,
          4,
          7,
          14,
          18,
          8,
          330,
          21,
          19,
          32,
          19,
          21,
          14,
          30,
          39,
          42,
          31,
          20,
          12,
          22,
          306,
          13,
          26,
          16,
          15,
          15,
          39,
          21,
          8,
          45,
          50,
          37,
          25,
          347,
          26,
          48,
          16,
          26,
          17,
          52,
          22,
          41,
          155,
          12,
          22,
          20,
          23,
          25,
          17,
          16,
          21,
          77,
          10,
          14,
          30,
          39,
          42,
          31,
          14,
          10,
          19,
          69,
          11,
          19,
          9,
          38,
          42,
          92,
          75,
          21,
          26,
          39,
          74,
          467,
          24,
          70,
          22,
          46,
          61,
          237,
          73,
          20,
          34,
          148,
          611
         ],
         "yaxis": "y"
        },
        {
         "hovertemplate": "<b>OLS trendline</b><br>Profile Visits = 1.81566 * Follows + 12.9355<br>R<sup>2</sup>=0.727868<br><br>Follows=%{x}<br>Profile Visits=%{y} <b>(trend)</b><extra></extra>",
         "legendgroup": "",
         "marker": {
          "color": "#636efa",
          "symbol": "circle"
         },
         "mode": "lines",
         "name": "",
         "showlegend": false,
         "type": "scatter",
         "x": [
          0,
          0,
          0,
          0,
          0,
          0,
          0,
          0,
          0,
          2,
          2,
          2,
          2,
          2,
          2,
          2,
          2,
          2,
          2,
          2,
          2,
          2,
          2,
          2,
          2,
          2,
          4,
          4,
          4,
          4,
          4,
          4,
          4,
          4,
          4,
          4,
          4,
          4,
          4,
          4,
          4,
          4,
          6,
          6,
          6,
          6,
          6,
          6,
          6,
          6,
          6,
          6,
          6,
          6,
          6,
          6,
          6,
          6,
          8,
          8,
          8,
          8,
          8,
          8,
          8,
          8,
          10,
          10,
          10,
          10,
          10,
          10,
          10,
          10,
          10,
          10,
          12,
          12,
          12,
          12,
          12,
          12,
          12,
          14,
          14,
          16,
          16,
          16,
          18,
          18,
          18,
          18,
          18,
          20,
          20,
          24,
          26,
          26,
          28,
          30,
          30,
          30,
          32,
          34,
          38,
          38,
          42,
          46,
          58,
          74,
          80,
          94,
          94,
          96,
          100,
          100,
          214,
          228,
          260
         ],
         "xaxis": "x",
         "y": [
          12.93548784931373,
          12.93548784931373,
          12.93548784931373,
          12.93548784931373,
          12.93548784931373,
          12.93548784931373,
          12.93548784931373,
          12.93548784931373,
          12.93548784931373,
          16.566805214440585,
          16.566805214440585,
          16.566805214440585,
          16.566805214440585,
          16.566805214440585,
          16.566805214440585,
          16.566805214440585,
          16.566805214440585,
          16.566805214440585,
          16.566805214440585,
          16.566805214440585,
          16.566805214440585,
          16.566805214440585,
          16.566805214440585,
          16.566805214440585,
          16.566805214440585,
          16.566805214440585,
          20.19812257956744,
          20.19812257956744,
          20.19812257956744,
          20.19812257956744,
          20.19812257956744,
          20.19812257956744,
          20.19812257956744,
          20.19812257956744,
          20.19812257956744,
          20.19812257956744,
          20.19812257956744,
          20.19812257956744,
          20.19812257956744,
          20.19812257956744,
          20.19812257956744,
          20.19812257956744,
          23.829439944694297,
          23.829439944694297,
          23.829439944694297,
          23.829439944694297,
          23.829439944694297,
          23.829439944694297,
          23.829439944694297,
          23.829439944694297,
          23.829439944694297,
          23.829439944694297,
          23.829439944694297,
          23.829439944694297,
          23.829439944694297,
          23.829439944694297,
          23.829439944694297,
          23.829439944694297,
          27.46075730982115,
          27.46075730982115,
          27.46075730982115,
          27.46075730982115,
          27.46075730982115,
          27.46075730982115,
          27.46075730982115,
          27.46075730982115,
          31.092074674948005,
          31.092074674948005,
          31.092074674948005,
          31.092074674948005,
          31.092074674948005,
          31.092074674948005,
          31.092074674948005,
          31.092074674948005,
          31.092074674948005,
          31.092074674948005,
          34.72339204007486,
          34.72339204007486,
          34.72339204007486,
          34.72339204007486,
          34.72339204007486,
          34.72339204007486,
          34.72339204007486,
          38.35470940520172,
          38.35470940520172,
          41.98602677032857,
          41.98602677032857,
          41.98602677032857,
          45.617344135455426,
          45.617344135455426,
          45.617344135455426,
          45.617344135455426,
          45.617344135455426,
          49.24866150058228,
          49.24866150058228,
          56.511296230835995,
          60.14261359596285,
          60.14261359596285,
          63.773930961089704,
          67.40524832621657,
          67.40524832621657,
          67.40524832621657,
          71.03656569134341,
          74.66788305647026,
          81.93051778672398,
          81.93051778672398,
          89.19315251697769,
          96.4557872472314,
          118.24369143799252,
          147.29423035900737,
          158.1881824543879,
          183.6074040102759,
          183.6074040102759,
          187.2387213754028,
          194.5013561056565,
          194.5013561056565,
          401.48644591788724,
          426.9056674737752,
          485.0067453158049
         ],
         "yaxis": "y"
        }
       ],
       "layout": {
        "legend": {
         "itemsizing": "constant",
         "tracegroupgap": 0
        },
        "template": {
         "data": {
          "bar": [
           {
            "error_x": {
             "color": "#2a3f5f"
            },
            "error_y": {
             "color": "#2a3f5f"
            },
            "marker": {
             "line": {
              "color": "#E5ECF6",
              "width": 0.5
             },
             "pattern": {
              "fillmode": "overlay",
              "size": 10,
              "solidity": 0.2
             }
            },
            "type": "bar"
           }
          ],
          "barpolar": [
           {
            "marker": {
             "line": {
              "color": "#E5ECF6",
              "width": 0.5
             },
             "pattern": {
              "fillmode": "overlay",
              "size": 10,
              "solidity": 0.2
             }
            },
            "type": "barpolar"
           }
          ],
          "carpet": [
           {
            "aaxis": {
             "endlinecolor": "#2a3f5f",
             "gridcolor": "white",
             "linecolor": "white",
             "minorgridcolor": "white",
             "startlinecolor": "#2a3f5f"
            },
            "baxis": {
             "endlinecolor": "#2a3f5f",
             "gridcolor": "white",
             "linecolor": "white",
             "minorgridcolor": "white",
             "startlinecolor": "#2a3f5f"
            },
            "type": "carpet"
           }
          ],
          "choropleth": [
           {
            "colorbar": {
             "outlinewidth": 0,
             "ticks": ""
            },
            "type": "choropleth"
           }
          ],
          "contour": [
           {
            "colorbar": {
             "outlinewidth": 0,
             "ticks": ""
            },
            "colorscale": [
             [
              0,
              "#0d0887"
             ],
             [
              0.1111111111111111,
              "#46039f"
             ],
             [
              0.2222222222222222,
              "#7201a8"
             ],
             [
              0.3333333333333333,
              "#9c179e"
             ],
             [
              0.4444444444444444,
              "#bd3786"
             ],
             [
              0.5555555555555556,
              "#d8576b"
             ],
             [
              0.6666666666666666,
              "#ed7953"
             ],
             [
              0.7777777777777778,
              "#fb9f3a"
             ],
             [
              0.8888888888888888,
              "#fdca26"
             ],
             [
              1,
              "#f0f921"
             ]
            ],
            "type": "contour"
           }
          ],
          "contourcarpet": [
           {
            "colorbar": {
             "outlinewidth": 0,
             "ticks": ""
            },
            "type": "contourcarpet"
           }
          ],
          "heatmap": [
           {
            "colorbar": {
             "outlinewidth": 0,
             "ticks": ""
            },
            "colorscale": [
             [
              0,
              "#0d0887"
             ],
             [
              0.1111111111111111,
              "#46039f"
             ],
             [
              0.2222222222222222,
              "#7201a8"
             ],
             [
              0.3333333333333333,
              "#9c179e"
             ],
             [
              0.4444444444444444,
              "#bd3786"
             ],
             [
              0.5555555555555556,
              "#d8576b"
             ],
             [
              0.6666666666666666,
              "#ed7953"
             ],
             [
              0.7777777777777778,
              "#fb9f3a"
             ],
             [
              0.8888888888888888,
              "#fdca26"
             ],
             [
              1,
              "#f0f921"
             ]
            ],
            "type": "heatmap"
           }
          ],
          "heatmapgl": [
           {
            "colorbar": {
             "outlinewidth": 0,
             "ticks": ""
            },
            "colorscale": [
             [
              0,
              "#0d0887"
             ],
             [
              0.1111111111111111,
              "#46039f"
             ],
             [
              0.2222222222222222,
              "#7201a8"
             ],
             [
              0.3333333333333333,
              "#9c179e"
             ],
             [
              0.4444444444444444,
              "#bd3786"
             ],
             [
              0.5555555555555556,
              "#d8576b"
             ],
             [
              0.6666666666666666,
              "#ed7953"
             ],
             [
              0.7777777777777778,
              "#fb9f3a"
             ],
             [
              0.8888888888888888,
              "#fdca26"
             ],
             [
              1,
              "#f0f921"
             ]
            ],
            "type": "heatmapgl"
           }
          ],
          "histogram": [
           {
            "marker": {
             "pattern": {
              "fillmode": "overlay",
              "size": 10,
              "solidity": 0.2
             }
            },
            "type": "histogram"
           }
          ],
          "histogram2d": [
           {
            "colorbar": {
             "outlinewidth": 0,
             "ticks": ""
            },
            "colorscale": [
             [
              0,
              "#0d0887"
             ],
             [
              0.1111111111111111,
              "#46039f"
             ],
             [
              0.2222222222222222,
              "#7201a8"
             ],
             [
              0.3333333333333333,
              "#9c179e"
             ],
             [
              0.4444444444444444,
              "#bd3786"
             ],
             [
              0.5555555555555556,
              "#d8576b"
             ],
             [
              0.6666666666666666,
              "#ed7953"
             ],
             [
              0.7777777777777778,
              "#fb9f3a"
             ],
             [
              0.8888888888888888,
              "#fdca26"
             ],
             [
              1,
              "#f0f921"
             ]
            ],
            "type": "histogram2d"
           }
          ],
          "histogram2dcontour": [
           {
            "colorbar": {
             "outlinewidth": 0,
             "ticks": ""
            },
            "colorscale": [
             [
              0,
              "#0d0887"
             ],
             [
              0.1111111111111111,
              "#46039f"
             ],
             [
              0.2222222222222222,
              "#7201a8"
             ],
             [
              0.3333333333333333,
              "#9c179e"
             ],
             [
              0.4444444444444444,
              "#bd3786"
             ],
             [
              0.5555555555555556,
              "#d8576b"
             ],
             [
              0.6666666666666666,
              "#ed7953"
             ],
             [
              0.7777777777777778,
              "#fb9f3a"
             ],
             [
              0.8888888888888888,
              "#fdca26"
             ],
             [
              1,
              "#f0f921"
             ]
            ],
            "type": "histogram2dcontour"
           }
          ],
          "mesh3d": [
           {
            "colorbar": {
             "outlinewidth": 0,
             "ticks": ""
            },
            "type": "mesh3d"
           }
          ],
          "parcoords": [
           {
            "line": {
             "colorbar": {
              "outlinewidth": 0,
              "ticks": ""
             }
            },
            "type": "parcoords"
           }
          ],
          "pie": [
           {
            "automargin": true,
            "type": "pie"
           }
          ],
          "scatter": [
           {
            "fillpattern": {
             "fillmode": "overlay",
             "size": 10,
             "solidity": 0.2
            },
            "type": "scatter"
           }
          ],
          "scatter3d": [
           {
            "line": {
             "colorbar": {
              "outlinewidth": 0,
              "ticks": ""
             }
            },
            "marker": {
             "colorbar": {
              "outlinewidth": 0,
              "ticks": ""
             }
            },
            "type": "scatter3d"
           }
          ],
          "scattercarpet": [
           {
            "marker": {
             "colorbar": {
              "outlinewidth": 0,
              "ticks": ""
             }
            },
            "type": "scattercarpet"
           }
          ],
          "scattergeo": [
           {
            "marker": {
             "colorbar": {
              "outlinewidth": 0,
              "ticks": ""
             }
            },
            "type": "scattergeo"
           }
          ],
          "scattergl": [
           {
            "marker": {
             "colorbar": {
              "outlinewidth": 0,
              "ticks": ""
             }
            },
            "type": "scattergl"
           }
          ],
          "scattermapbox": [
           {
            "marker": {
             "colorbar": {
              "outlinewidth": 0,
              "ticks": ""
             }
            },
            "type": "scattermapbox"
           }
          ],
          "scatterpolar": [
           {
            "marker": {
             "colorbar": {
              "outlinewidth": 0,
              "ticks": ""
             }
            },
            "type": "scatterpolar"
           }
          ],
          "scatterpolargl": [
           {
            "marker": {
             "colorbar": {
              "outlinewidth": 0,
              "ticks": ""
             }
            },
            "type": "scatterpolargl"
           }
          ],
          "scatterternary": [
           {
            "marker": {
             "colorbar": {
              "outlinewidth": 0,
              "ticks": ""
             }
            },
            "type": "scatterternary"
           }
          ],
          "surface": [
           {
            "colorbar": {
             "outlinewidth": 0,
             "ticks": ""
            },
            "colorscale": [
             [
              0,
              "#0d0887"
             ],
             [
              0.1111111111111111,
              "#46039f"
             ],
             [
              0.2222222222222222,
              "#7201a8"
             ],
             [
              0.3333333333333333,
              "#9c179e"
             ],
             [
              0.4444444444444444,
              "#bd3786"
             ],
             [
              0.5555555555555556,
              "#d8576b"
             ],
             [
              0.6666666666666666,
              "#ed7953"
             ],
             [
              0.7777777777777778,
              "#fb9f3a"
             ],
             [
              0.8888888888888888,
              "#fdca26"
             ],
             [
              1,
              "#f0f921"
             ]
            ],
            "type": "surface"
           }
          ],
          "table": [
           {
            "cells": {
             "fill": {
              "color": "#EBF0F8"
             },
             "line": {
              "color": "white"
             }
            },
            "header": {
             "fill": {
              "color": "#C8D4E3"
             },
             "line": {
              "color": "white"
             }
            },
            "type": "table"
           }
          ]
         },
         "layout": {
          "annotationdefaults": {
           "arrowcolor": "#2a3f5f",
           "arrowhead": 0,
           "arrowwidth": 1
          },
          "autotypenumbers": "strict",
          "coloraxis": {
           "colorbar": {
            "outlinewidth": 0,
            "ticks": ""
           }
          },
          "colorscale": {
           "diverging": [
            [
             0,
             "#8e0152"
            ],
            [
             0.1,
             "#c51b7d"
            ],
            [
             0.2,
             "#de77ae"
            ],
            [
             0.3,
             "#f1b6da"
            ],
            [
             0.4,
             "#fde0ef"
            ],
            [
             0.5,
             "#f7f7f7"
            ],
            [
             0.6,
             "#e6f5d0"
            ],
            [
             0.7,
             "#b8e186"
            ],
            [
             0.8,
             "#7fbc41"
            ],
            [
             0.9,
             "#4d9221"
            ],
            [
             1,
             "#276419"
            ]
           ],
           "sequential": [
            [
             0,
             "#0d0887"
            ],
            [
             0.1111111111111111,
             "#46039f"
            ],
            [
             0.2222222222222222,
             "#7201a8"
            ],
            [
             0.3333333333333333,
             "#9c179e"
            ],
            [
             0.4444444444444444,
             "#bd3786"
            ],
            [
             0.5555555555555556,
             "#d8576b"
            ],
            [
             0.6666666666666666,
             "#ed7953"
            ],
            [
             0.7777777777777778,
             "#fb9f3a"
            ],
            [
             0.8888888888888888,
             "#fdca26"
            ],
            [
             1,
             "#f0f921"
            ]
           ],
           "sequentialminus": [
            [
             0,
             "#0d0887"
            ],
            [
             0.1111111111111111,
             "#46039f"
            ],
            [
             0.2222222222222222,
             "#7201a8"
            ],
            [
             0.3333333333333333,
             "#9c179e"
            ],
            [
             0.4444444444444444,
             "#bd3786"
            ],
            [
             0.5555555555555556,
             "#d8576b"
            ],
            [
             0.6666666666666666,
             "#ed7953"
            ],
            [
             0.7777777777777778,
             "#fb9f3a"
            ],
            [
             0.8888888888888888,
             "#fdca26"
            ],
            [
             1,
             "#f0f921"
            ]
           ]
          },
          "colorway": [
           "#636efa",
           "#EF553B",
           "#00cc96",
           "#ab63fa",
           "#FFA15A",
           "#19d3f3",
           "#FF6692",
           "#B6E880",
           "#FF97FF",
           "#FECB52"
          ],
          "font": {
           "color": "#2a3f5f"
          },
          "geo": {
           "bgcolor": "white",
           "lakecolor": "white",
           "landcolor": "#E5ECF6",
           "showlakes": true,
           "showland": true,
           "subunitcolor": "white"
          },
          "hoverlabel": {
           "align": "left"
          },
          "hovermode": "closest",
          "mapbox": {
           "style": "light"
          },
          "paper_bgcolor": "white",
          "plot_bgcolor": "#E5ECF6",
          "polar": {
           "angularaxis": {
            "gridcolor": "white",
            "linecolor": "white",
            "ticks": ""
           },
           "bgcolor": "#E5ECF6",
           "radialaxis": {
            "gridcolor": "white",
            "linecolor": "white",
            "ticks": ""
           }
          },
          "scene": {
           "xaxis": {
            "backgroundcolor": "#E5ECF6",
            "gridcolor": "white",
            "gridwidth": 2,
            "linecolor": "white",
            "showbackground": true,
            "ticks": "",
            "zerolinecolor": "white"
           },
           "yaxis": {
            "backgroundcolor": "#E5ECF6",
            "gridcolor": "white",
            "gridwidth": 2,
            "linecolor": "white",
            "showbackground": true,
            "ticks": "",
            "zerolinecolor": "white"
           },
           "zaxis": {
            "backgroundcolor": "#E5ECF6",
            "gridcolor": "white",
            "gridwidth": 2,
            "linecolor": "white",
            "showbackground": true,
            "ticks": "",
            "zerolinecolor": "white"
           }
          },
          "shapedefaults": {
           "line": {
            "color": "#2a3f5f"
           }
          },
          "ternary": {
           "aaxis": {
            "gridcolor": "white",
            "linecolor": "white",
            "ticks": ""
           },
           "baxis": {
            "gridcolor": "white",
            "linecolor": "white",
            "ticks": ""
           },
           "bgcolor": "#E5ECF6",
           "caxis": {
            "gridcolor": "white",
            "linecolor": "white",
            "ticks": ""
           }
          },
          "title": {
           "x": 0.05
          },
          "xaxis": {
           "automargin": true,
           "gridcolor": "white",
           "linecolor": "white",
           "ticks": "",
           "title": {
            "standoff": 15
           },
           "zerolinecolor": "white",
           "zerolinewidth": 2
          },
          "yaxis": {
           "automargin": true,
           "gridcolor": "white",
           "linecolor": "white",
           "ticks": "",
           "title": {
            "standoff": 15
           },
           "zerolinecolor": "white",
           "zerolinewidth": 2
          }
         }
        },
        "title": {
         "text": "Relationship between Follows and Profile visits "
        },
        "xaxis": {
         "anchor": "y",
         "domain": [
          0,
          1
         ],
         "title": {
          "text": "Follows"
         }
        },
        "yaxis": {
         "anchor": "x",
         "domain": [
          0,
          1
         ],
         "title": {
          "text": "Profile Visits"
         }
        }
       }
      },
      "text/html": [
       "<div>                            <div id=\"91bbc5fc-e640-4732-9b02-fb0ea702e26c\" class=\"plotly-graph-div\" style=\"height:525px; width:100%;\"></div>            <script type=\"text/javascript\">                require([\"plotly\"], function(Plotly) {                    window.PLOTLYENV=window.PLOTLYENV || {};                                    if (document.getElementById(\"91bbc5fc-e640-4732-9b02-fb0ea702e26c\")) {                    Plotly.newPlot(                        \"91bbc5fc-e640-4732-9b02-fb0ea702e26c\",                        [{\"hovertemplate\":\"Follows=%{marker.size}<br>Profile Visits=%{y}<extra></extra>\",\"legendgroup\":\"\",\"marker\":{\"color\":\"#636efa\",\"size\":[2,10,12,8,0,2,0,6,4,6,4,0,2,4,42,6,2,2,30,0,0,24,100,2,4,6,6,6,2,2,20,2,4,8,26,2,2,4,0,2,94,8,18,10,4,4,4,4,18,38,10,12,4,4,74,0,6,6,0,6,12,10,8,8,46,12,10,94,6,10,6,4,12,16,12,8,32,8,16,6,10,10,6,2,2,30,0,4,4,18,38,10,2,4,6,6,6,2,2,14,8,14,28,18,12,34,26,260,16,96,20,30,58,100,80,18,10,214,228],\"sizemode\":\"area\",\"sizeref\":0.65,\"symbol\":\"circle\"},\"mode\":\"markers\",\"name\":\"\",\"orientation\":\"v\",\"showlegend\":false,\"x\":[2,10,12,8,0,2,0,6,4,6,4,0,2,4,42,6,2,2,30,0,0,24,100,2,4,6,6,6,2,2,20,2,4,8,26,2,2,4,0,2,94,8,18,10,4,4,4,4,18,38,10,12,4,4,74,0,6,6,0,6,12,10,8,8,46,12,10,94,6,10,6,4,12,16,12,8,32,8,16,6,10,10,6,2,2,30,0,4,4,18,38,10,2,4,6,6,6,2,2,14,8,14,28,18,12,34,26,260,16,96,20,30,58,100,80,18,10,214,228],\"xaxis\":\"x\",\"y\":[35,48,62,23,8,9,26,12,36,31,29,15,8,20,181,17,16,21,77,10,9,11,144,14,10,19,69,11,19,9,57,13,11,24,81,4,7,14,18,8,330,21,19,32,19,21,14,30,39,42,31,20,12,22,306,13,26,16,15,15,39,21,8,45,50,37,25,347,26,48,16,26,17,52,22,41,155,12,22,20,23,25,17,16,21,77,10,14,30,39,42,31,14,10,19,69,11,19,9,38,42,92,75,21,26,39,74,467,24,70,22,46,61,237,73,20,34,148,611],\"yaxis\":\"y\",\"type\":\"scatter\"},{\"hovertemplate\":\"<b>OLS trendline</b><br>Profile Visits = 1.81566 * Follows + 12.9355<br>R<sup>2</sup>=0.727868<br><br>Follows=%{x}<br>Profile Visits=%{y} <b>(trend)</b><extra></extra>\",\"legendgroup\":\"\",\"marker\":{\"color\":\"#636efa\",\"symbol\":\"circle\"},\"mode\":\"lines\",\"name\":\"\",\"showlegend\":false,\"x\":[0,0,0,0,0,0,0,0,0,2,2,2,2,2,2,2,2,2,2,2,2,2,2,2,2,2,4,4,4,4,4,4,4,4,4,4,4,4,4,4,4,4,6,6,6,6,6,6,6,6,6,6,6,6,6,6,6,6,8,8,8,8,8,8,8,8,10,10,10,10,10,10,10,10,10,10,12,12,12,12,12,12,12,14,14,16,16,16,18,18,18,18,18,20,20,24,26,26,28,30,30,30,32,34,38,38,42,46,58,74,80,94,94,96,100,100,214,228,260],\"xaxis\":\"x\",\"y\":[12.93548784931373,12.93548784931373,12.93548784931373,12.93548784931373,12.93548784931373,12.93548784931373,12.93548784931373,12.93548784931373,12.93548784931373,16.566805214440585,16.566805214440585,16.566805214440585,16.566805214440585,16.566805214440585,16.566805214440585,16.566805214440585,16.566805214440585,16.566805214440585,16.566805214440585,16.566805214440585,16.566805214440585,16.566805214440585,16.566805214440585,16.566805214440585,16.566805214440585,16.566805214440585,20.19812257956744,20.19812257956744,20.19812257956744,20.19812257956744,20.19812257956744,20.19812257956744,20.19812257956744,20.19812257956744,20.19812257956744,20.19812257956744,20.19812257956744,20.19812257956744,20.19812257956744,20.19812257956744,20.19812257956744,20.19812257956744,23.829439944694297,23.829439944694297,23.829439944694297,23.829439944694297,23.829439944694297,23.829439944694297,23.829439944694297,23.829439944694297,23.829439944694297,23.829439944694297,23.829439944694297,23.829439944694297,23.829439944694297,23.829439944694297,23.829439944694297,23.829439944694297,27.46075730982115,27.46075730982115,27.46075730982115,27.46075730982115,27.46075730982115,27.46075730982115,27.46075730982115,27.46075730982115,31.092074674948005,31.092074674948005,31.092074674948005,31.092074674948005,31.092074674948005,31.092074674948005,31.092074674948005,31.092074674948005,31.092074674948005,31.092074674948005,34.72339204007486,34.72339204007486,34.72339204007486,34.72339204007486,34.72339204007486,34.72339204007486,34.72339204007486,38.35470940520172,38.35470940520172,41.98602677032857,41.98602677032857,41.98602677032857,45.617344135455426,45.617344135455426,45.617344135455426,45.617344135455426,45.617344135455426,49.24866150058228,49.24866150058228,56.511296230835995,60.14261359596285,60.14261359596285,63.773930961089704,67.40524832621657,67.40524832621657,67.40524832621657,71.03656569134341,74.66788305647026,81.93051778672398,81.93051778672398,89.19315251697769,96.4557872472314,118.24369143799252,147.29423035900737,158.1881824543879,183.6074040102759,183.6074040102759,187.2387213754028,194.5013561056565,194.5013561056565,401.48644591788724,426.9056674737752,485.0067453158049],\"yaxis\":\"y\",\"type\":\"scatter\"}],                        {\"template\":{\"data\":{\"histogram2dcontour\":[{\"type\":\"histogram2dcontour\",\"colorbar\":{\"outlinewidth\":0,\"ticks\":\"\"},\"colorscale\":[[0.0,\"#0d0887\"],[0.1111111111111111,\"#46039f\"],[0.2222222222222222,\"#7201a8\"],[0.3333333333333333,\"#9c179e\"],[0.4444444444444444,\"#bd3786\"],[0.5555555555555556,\"#d8576b\"],[0.6666666666666666,\"#ed7953\"],[0.7777777777777778,\"#fb9f3a\"],[0.8888888888888888,\"#fdca26\"],[1.0,\"#f0f921\"]]}],\"choropleth\":[{\"type\":\"choropleth\",\"colorbar\":{\"outlinewidth\":0,\"ticks\":\"\"}}],\"histogram2d\":[{\"type\":\"histogram2d\",\"colorbar\":{\"outlinewidth\":0,\"ticks\":\"\"},\"colorscale\":[[0.0,\"#0d0887\"],[0.1111111111111111,\"#46039f\"],[0.2222222222222222,\"#7201a8\"],[0.3333333333333333,\"#9c179e\"],[0.4444444444444444,\"#bd3786\"],[0.5555555555555556,\"#d8576b\"],[0.6666666666666666,\"#ed7953\"],[0.7777777777777778,\"#fb9f3a\"],[0.8888888888888888,\"#fdca26\"],[1.0,\"#f0f921\"]]}],\"heatmap\":[{\"type\":\"heatmap\",\"colorbar\":{\"outlinewidth\":0,\"ticks\":\"\"},\"colorscale\":[[0.0,\"#0d0887\"],[0.1111111111111111,\"#46039f\"],[0.2222222222222222,\"#7201a8\"],[0.3333333333333333,\"#9c179e\"],[0.4444444444444444,\"#bd3786\"],[0.5555555555555556,\"#d8576b\"],[0.6666666666666666,\"#ed7953\"],[0.7777777777777778,\"#fb9f3a\"],[0.8888888888888888,\"#fdca26\"],[1.0,\"#f0f921\"]]}],\"heatmapgl\":[{\"type\":\"heatmapgl\",\"colorbar\":{\"outlinewidth\":0,\"ticks\":\"\"},\"colorscale\":[[0.0,\"#0d0887\"],[0.1111111111111111,\"#46039f\"],[0.2222222222222222,\"#7201a8\"],[0.3333333333333333,\"#9c179e\"],[0.4444444444444444,\"#bd3786\"],[0.5555555555555556,\"#d8576b\"],[0.6666666666666666,\"#ed7953\"],[0.7777777777777778,\"#fb9f3a\"],[0.8888888888888888,\"#fdca26\"],[1.0,\"#f0f921\"]]}],\"contourcarpet\":[{\"type\":\"contourcarpet\",\"colorbar\":{\"outlinewidth\":0,\"ticks\":\"\"}}],\"contour\":[{\"type\":\"contour\",\"colorbar\":{\"outlinewidth\":0,\"ticks\":\"\"},\"colorscale\":[[0.0,\"#0d0887\"],[0.1111111111111111,\"#46039f\"],[0.2222222222222222,\"#7201a8\"],[0.3333333333333333,\"#9c179e\"],[0.4444444444444444,\"#bd3786\"],[0.5555555555555556,\"#d8576b\"],[0.6666666666666666,\"#ed7953\"],[0.7777777777777778,\"#fb9f3a\"],[0.8888888888888888,\"#fdca26\"],[1.0,\"#f0f921\"]]}],\"surface\":[{\"type\":\"surface\",\"colorbar\":{\"outlinewidth\":0,\"ticks\":\"\"},\"colorscale\":[[0.0,\"#0d0887\"],[0.1111111111111111,\"#46039f\"],[0.2222222222222222,\"#7201a8\"],[0.3333333333333333,\"#9c179e\"],[0.4444444444444444,\"#bd3786\"],[0.5555555555555556,\"#d8576b\"],[0.6666666666666666,\"#ed7953\"],[0.7777777777777778,\"#fb9f3a\"],[0.8888888888888888,\"#fdca26\"],[1.0,\"#f0f921\"]]}],\"mesh3d\":[{\"type\":\"mesh3d\",\"colorbar\":{\"outlinewidth\":0,\"ticks\":\"\"}}],\"scatter\":[{\"fillpattern\":{\"fillmode\":\"overlay\",\"size\":10,\"solidity\":0.2},\"type\":\"scatter\"}],\"parcoords\":[{\"type\":\"parcoords\",\"line\":{\"colorbar\":{\"outlinewidth\":0,\"ticks\":\"\"}}}],\"scatterpolargl\":[{\"type\":\"scatterpolargl\",\"marker\":{\"colorbar\":{\"outlinewidth\":0,\"ticks\":\"\"}}}],\"bar\":[{\"error_x\":{\"color\":\"#2a3f5f\"},\"error_y\":{\"color\":\"#2a3f5f\"},\"marker\":{\"line\":{\"color\":\"#E5ECF6\",\"width\":0.5},\"pattern\":{\"fillmode\":\"overlay\",\"size\":10,\"solidity\":0.2}},\"type\":\"bar\"}],\"scattergeo\":[{\"type\":\"scattergeo\",\"marker\":{\"colorbar\":{\"outlinewidth\":0,\"ticks\":\"\"}}}],\"scatterpolar\":[{\"type\":\"scatterpolar\",\"marker\":{\"colorbar\":{\"outlinewidth\":0,\"ticks\":\"\"}}}],\"histogram\":[{\"marker\":{\"pattern\":{\"fillmode\":\"overlay\",\"size\":10,\"solidity\":0.2}},\"type\":\"histogram\"}],\"scattergl\":[{\"type\":\"scattergl\",\"marker\":{\"colorbar\":{\"outlinewidth\":0,\"ticks\":\"\"}}}],\"scatter3d\":[{\"type\":\"scatter3d\",\"line\":{\"colorbar\":{\"outlinewidth\":0,\"ticks\":\"\"}},\"marker\":{\"colorbar\":{\"outlinewidth\":0,\"ticks\":\"\"}}}],\"scattermapbox\":[{\"type\":\"scattermapbox\",\"marker\":{\"colorbar\":{\"outlinewidth\":0,\"ticks\":\"\"}}}],\"scatterternary\":[{\"type\":\"scatterternary\",\"marker\":{\"colorbar\":{\"outlinewidth\":0,\"ticks\":\"\"}}}],\"scattercarpet\":[{\"type\":\"scattercarpet\",\"marker\":{\"colorbar\":{\"outlinewidth\":0,\"ticks\":\"\"}}}],\"carpet\":[{\"aaxis\":{\"endlinecolor\":\"#2a3f5f\",\"gridcolor\":\"white\",\"linecolor\":\"white\",\"minorgridcolor\":\"white\",\"startlinecolor\":\"#2a3f5f\"},\"baxis\":{\"endlinecolor\":\"#2a3f5f\",\"gridcolor\":\"white\",\"linecolor\":\"white\",\"minorgridcolor\":\"white\",\"startlinecolor\":\"#2a3f5f\"},\"type\":\"carpet\"}],\"table\":[{\"cells\":{\"fill\":{\"color\":\"#EBF0F8\"},\"line\":{\"color\":\"white\"}},\"header\":{\"fill\":{\"color\":\"#C8D4E3\"},\"line\":{\"color\":\"white\"}},\"type\":\"table\"}],\"barpolar\":[{\"marker\":{\"line\":{\"color\":\"#E5ECF6\",\"width\":0.5},\"pattern\":{\"fillmode\":\"overlay\",\"size\":10,\"solidity\":0.2}},\"type\":\"barpolar\"}],\"pie\":[{\"automargin\":true,\"type\":\"pie\"}]},\"layout\":{\"autotypenumbers\":\"strict\",\"colorway\":[\"#636efa\",\"#EF553B\",\"#00cc96\",\"#ab63fa\",\"#FFA15A\",\"#19d3f3\",\"#FF6692\",\"#B6E880\",\"#FF97FF\",\"#FECB52\"],\"font\":{\"color\":\"#2a3f5f\"},\"hovermode\":\"closest\",\"hoverlabel\":{\"align\":\"left\"},\"paper_bgcolor\":\"white\",\"plot_bgcolor\":\"#E5ECF6\",\"polar\":{\"bgcolor\":\"#E5ECF6\",\"angularaxis\":{\"gridcolor\":\"white\",\"linecolor\":\"white\",\"ticks\":\"\"},\"radialaxis\":{\"gridcolor\":\"white\",\"linecolor\":\"white\",\"ticks\":\"\"}},\"ternary\":{\"bgcolor\":\"#E5ECF6\",\"aaxis\":{\"gridcolor\":\"white\",\"linecolor\":\"white\",\"ticks\":\"\"},\"baxis\":{\"gridcolor\":\"white\",\"linecolor\":\"white\",\"ticks\":\"\"},\"caxis\":{\"gridcolor\":\"white\",\"linecolor\":\"white\",\"ticks\":\"\"}},\"coloraxis\":{\"colorbar\":{\"outlinewidth\":0,\"ticks\":\"\"}},\"colorscale\":{\"sequential\":[[0.0,\"#0d0887\"],[0.1111111111111111,\"#46039f\"],[0.2222222222222222,\"#7201a8\"],[0.3333333333333333,\"#9c179e\"],[0.4444444444444444,\"#bd3786\"],[0.5555555555555556,\"#d8576b\"],[0.6666666666666666,\"#ed7953\"],[0.7777777777777778,\"#fb9f3a\"],[0.8888888888888888,\"#fdca26\"],[1.0,\"#f0f921\"]],\"sequentialminus\":[[0.0,\"#0d0887\"],[0.1111111111111111,\"#46039f\"],[0.2222222222222222,\"#7201a8\"],[0.3333333333333333,\"#9c179e\"],[0.4444444444444444,\"#bd3786\"],[0.5555555555555556,\"#d8576b\"],[0.6666666666666666,\"#ed7953\"],[0.7777777777777778,\"#fb9f3a\"],[0.8888888888888888,\"#fdca26\"],[1.0,\"#f0f921\"]],\"diverging\":[[0,\"#8e0152\"],[0.1,\"#c51b7d\"],[0.2,\"#de77ae\"],[0.3,\"#f1b6da\"],[0.4,\"#fde0ef\"],[0.5,\"#f7f7f7\"],[0.6,\"#e6f5d0\"],[0.7,\"#b8e186\"],[0.8,\"#7fbc41\"],[0.9,\"#4d9221\"],[1,\"#276419\"]]},\"xaxis\":{\"gridcolor\":\"white\",\"linecolor\":\"white\",\"ticks\":\"\",\"title\":{\"standoff\":15},\"zerolinecolor\":\"white\",\"automargin\":true,\"zerolinewidth\":2},\"yaxis\":{\"gridcolor\":\"white\",\"linecolor\":\"white\",\"ticks\":\"\",\"title\":{\"standoff\":15},\"zerolinecolor\":\"white\",\"automargin\":true,\"zerolinewidth\":2},\"scene\":{\"xaxis\":{\"backgroundcolor\":\"#E5ECF6\",\"gridcolor\":\"white\",\"linecolor\":\"white\",\"showbackground\":true,\"ticks\":\"\",\"zerolinecolor\":\"white\",\"gridwidth\":2},\"yaxis\":{\"backgroundcolor\":\"#E5ECF6\",\"gridcolor\":\"white\",\"linecolor\":\"white\",\"showbackground\":true,\"ticks\":\"\",\"zerolinecolor\":\"white\",\"gridwidth\":2},\"zaxis\":{\"backgroundcolor\":\"#E5ECF6\",\"gridcolor\":\"white\",\"linecolor\":\"white\",\"showbackground\":true,\"ticks\":\"\",\"zerolinecolor\":\"white\",\"gridwidth\":2}},\"shapedefaults\":{\"line\":{\"color\":\"#2a3f5f\"}},\"annotationdefaults\":{\"arrowcolor\":\"#2a3f5f\",\"arrowhead\":0,\"arrowwidth\":1},\"geo\":{\"bgcolor\":\"white\",\"landcolor\":\"#E5ECF6\",\"subunitcolor\":\"white\",\"showland\":true,\"showlakes\":true,\"lakecolor\":\"white\"},\"title\":{\"x\":0.05},\"mapbox\":{\"style\":\"light\"}}},\"xaxis\":{\"anchor\":\"y\",\"domain\":[0.0,1.0],\"title\":{\"text\":\"Follows\"}},\"yaxis\":{\"anchor\":\"x\",\"domain\":[0.0,1.0],\"title\":{\"text\":\"Profile Visits\"}},\"legend\":{\"tracegroupgap\":0,\"itemsizing\":\"constant\"},\"title\":{\"text\":\"Relationship between Follows and Profile visits \"}},                        {\"responsive\": true}                    ).then(function(){\n",
       "                            \n",
       "var gd = document.getElementById('91bbc5fc-e640-4732-9b02-fb0ea702e26c');\n",
       "var x = new MutationObserver(function (mutations, observer) {{\n",
       "        var display = window.getComputedStyle(gd).display;\n",
       "        if (!display || display === 'none') {{\n",
       "            console.log([gd, 'removed!']);\n",
       "            Plotly.purge(gd);\n",
       "            observer.disconnect();\n",
       "        }}\n",
       "}});\n",
       "\n",
       "// Listen for the removal of the full notebook cells\n",
       "var notebookContainer = gd.closest('#notebook-container');\n",
       "if (notebookContainer) {{\n",
       "    x.observe(notebookContainer, {childList: true});\n",
       "}}\n",
       "\n",
       "// Listen for the clearing of the current output cell\n",
       "var outputEl = gd.closest('.output');\n",
       "if (outputEl) {{\n",
       "    x.observe(outputEl, {childList: true});\n",
       "}}\n",
       "\n",
       "                        })                };                });            </script>        </div>"
      ]
     },
     "metadata": {},
     "output_type": "display_data"
    }
   ],
   "source": [
    "figure=px.scatter(df,x=\"Follows\",y=\"Profile Visits\",size=\"Follows\",\n",
    "                  trendline=\"ols\",title=\"Relationship between Follows and Profile visits \")\n",
    "figure.show()"
   ]
  },
  {
   "cell_type": "markdown",
   "metadata": {},
   "source": [
    "# Instagram Reach Prediction Model\n",
    "Now in this section, I will train a machine learning model to predict the reach of an Instagram post. Let’s split the data into training and test sets before training the model"
   ]
  },
  {
   "cell_type": "code",
   "execution_count": 76,
   "metadata": {},
   "outputs": [],
   "source": [
    "x=np.array(df[[\"Likes\",\"Saves\",\"Comments\",\n",
    "           \"Shares\",\"Profile Visits\",\"Follows\"]])\n",
    "y=np.array(df[\"Impressions\"])\n",
    "x_train,x_test,y_train,y_test=train_test_split(x,y,test_size=0.12,\n",
    "                                               random_state=42)"
   ]
  },
  {
   "cell_type": "code",
   "execution_count": 77,
   "metadata": {},
   "outputs": [
    {
     "name": "stderr",
     "output_type": "stream",
     "text": [
      "C:\\Users\\at\\Anaconda3\\lib\\site-packages\\sklearn\\linear_model\\stochastic_gradient.py:128: FutureWarning:\n",
      "\n",
      "max_iter and tol parameters have been added in <class 'sklearn.linear_model.passive_aggressive.PassiveAggressiveRegressor'> in 0.19. If both are left unset, they default to max_iter=5 and tol=None. If tol is not None, max_iter defaults to max_iter=1000. From 0.21, default max_iter will be 1000, and default tol will be 1e-3.\n",
      "\n"
     ]
    },
    {
     "data": {
      "text/plain": [
       "0.7463142526926193"
      ]
     },
     "execution_count": 77,
     "metadata": {},
     "output_type": "execute_result"
    }
   ],
   "source": [
    "model= PassiveAggressiveRegressor()\n",
    "model.fit(x_train,y_train)\n",
    "model.score(x_test,y_test)"
   ]
  },
  {
   "cell_type": "code",
   "execution_count": 102,
   "metadata": {},
   "outputs": [
    {
     "data": {
      "text/plain": [
       "array([5394], dtype=int64)"
      ]
     },
     "execution_count": 102,
     "metadata": {},
     "output_type": "execute_result"
    }
   ],
   "source": [
    "# Features=[[\"Likes\",\"Saves\",\"Comments\",\"Shares\",\"Profile Visits\",\"Follows\"]]\n",
    "features=np.array([[162.0,98.0,9.0,9.0,35.0,2.0]])\n",
    "model.predict(features)"
   ]
  },
  {
   "cell_type": "markdown",
   "metadata": {},
   "source": [
    "# Accuracy  of  Model"
   ]
  },
  {
   "cell_type": "code",
   "execution_count": 110,
   "metadata": {},
   "outputs": [
    {
     "data": {
      "text/plain": [
       "83.65384615384616"
      ]
     },
     "execution_count": 110,
     "metadata": {},
     "output_type": "execute_result"
    }
   ],
   "source": [
    "model=LogisticRegression()\n",
    "model.fit(x_train,y_train)\n",
    "(accuracy_score(y_train,model.predict(x_train)))*100"
   ]
  },
  {
   "cell_type": "markdown",
   "metadata": {},
   "source": [
    "# summary\n",
    "\n",
    "So this is how you can analyze and predict the reach of Instagram posts with machine learning using Python. If a content creator wants to do well on Instagram in a long run, they have to look at the data of their Instagram reach. That is where the use of Data Science in social media comes in. I hope you liked this article on the task of Instagram Reach Analysis using Python. Feel free to ask valuable questions in the comments section below.\n",
    "\n"
   ]
  },
  {
   "cell_type": "code",
   "execution_count": null,
   "metadata": {},
   "outputs": [],
   "source": []
  },
  {
   "cell_type": "markdown",
   "metadata": {},
   "source": []
  }
 ],
 "metadata": {
  "kernelspec": {
   "display_name": "Python 3",
   "language": "python",
   "name": "python3"
  },
  "language_info": {
   "codemirror_mode": {
    "name": "ipython",
    "version": 3
   },
   "file_extension": ".py",
   "mimetype": "text/x-python",
   "name": "python",
   "nbconvert_exporter": "python",
   "pygments_lexer": "ipython3",
   "version": "3.6.4"
  }
 },
 "nbformat": 4,
 "nbformat_minor": 2
}
